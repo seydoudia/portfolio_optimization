{
 "cells": [
  {
   "cell_type": "markdown",
   "metadata": {},
   "source": [
    "# Description"
   ]
  },
  {
   "cell_type": "markdown",
   "metadata": {},
   "source": [
    "* Author: Seydou DIA & Simona MILADINOVA\n",
    "\n",
    "Notebook to retrieve carbon intensity of used assets"
   ]
  },
  {
   "cell_type": "markdown",
   "metadata": {},
   "source": [
    "# Setup"
   ]
  },
  {
   "cell_type": "code",
   "execution_count": 26,
   "metadata": {
    "ExecuteTime": {
     "end_time": "2022-07-24T18:55:03.242394Z",
     "start_time": "2022-07-24T18:55:03.220775Z"
    }
   },
   "outputs": [
    {
     "name": "stdout",
     "output_type": "stream",
     "text": [
      "The autoreload extension is already loaded. To reload it, use:\n",
      "  %reload_ext autoreload\n"
     ]
    }
   ],
   "source": [
    "%matplotlib notebook\n",
    "%load_ext autoreload"
   ]
  },
  {
   "cell_type": "markdown",
   "metadata": {},
   "source": [
    "## Imports"
   ]
  },
  {
   "cell_type": "code",
   "execution_count": 27,
   "metadata": {
    "ExecuteTime": {
     "end_time": "2022-07-24T18:55:04.140195Z",
     "start_time": "2022-07-24T18:55:04.125219Z"
    }
   },
   "outputs": [],
   "source": [
    "# os related\n",
    "from pathlib import Path\n",
    "import os \n",
    "\n",
    "# data related\n",
    "import pandas as pd\n",
    "import missingno as msno\n",
    "import datetime as dt\n",
    "import numpy as np\n",
    "import pickle\n",
    "import json\n",
    "\n",
    "# optimization related\n",
    "from gurobipy import (Model, GRB, quicksum, multidict, tuplelist)\n",
    "\n",
    "# visual related\n",
    "import matplotlib.pyplot as plt\n",
    "import seaborn as sns\n",
    "\n",
    "# time related\n",
    "\n",
    "\n",
    "\n",
    "from fonctions import *"
   ]
  },
  {
   "cell_type": "markdown",
   "metadata": {},
   "source": [
    "## Paths"
   ]
  },
  {
   "cell_type": "code",
   "execution_count": 28,
   "metadata": {
    "ExecuteTime": {
     "end_time": "2022-07-24T18:55:07.487538Z",
     "start_time": "2022-07-24T18:55:07.473530Z"
    }
   },
   "outputs": [],
   "source": [
    "\n",
    "# MUST BE IN CODE FOLDER TO WORK !\n",
    "PROJECT_PATH = Path(os.getcwd()).parent\n",
    "\n",
    "RAW_DATA = PROJECT_PATH / \"RAW_DATA\" \n",
    "PROC_DATA = PROJECT_PATH / \"PROC_DATA\"\n",
    "\n",
    "# RAW FILES\n",
    "CSV_FILE = RAW_DATA / \"Individual_stock_data_csv.csv\"\n",
    "XLSX_FILE = RAW_DATA / \"Individual_stock_data.xlsx\"\n",
    "\n",
    "# PROC FILES\n",
    "PROC_STOCK = PROC_DATA / \"proc_stock.csv\"\n",
    "PROC_CARBON = PROC_DATA / \"proc_carbon.csv\"\n",
    "\n",
    "STOCK_2000 = PROC_DATA / \"stock_2000.csv\"\n",
    "\n",
    "\n",
    "STOCK_WORK = PROC_DATA / \"stock_work.csv\"\n",
    "STOCK2USE = PROC_DATA / \"stock2use.csv\"\n",
    "DIC2USE = PROC_DATA / \"dic2use.json\"\n",
    "\n",
    "\n",
    "OUT_RENDEMENT = PROC_DATA / \"rendement_v1\"\n",
    "\n",
    "OUT_DF_CSV = PROC_DATA / \"optimize_assets.csv\"\n",
    "OUT_DIC_WEIGHT = PROC_DATA / \"dic_weight.pickle\"\n",
    "\n",
    "\n",
    "\n",
    "DIC_CARBON_INTENSITY_JSON = PROC_DATA / \"dic_intensity.json\""
   ]
  },
  {
   "cell_type": "markdown",
   "metadata": {},
   "source": [
    "# Notebook"
   ]
  },
  {
   "cell_type": "code",
   "execution_count": 30,
   "metadata": {
    "ExecuteTime": {
     "end_time": "2022-07-24T18:55:39.249660Z",
     "start_time": "2022-07-24T18:55:39.186865Z"
    }
   },
   "outputs": [],
   "source": [
    "\n",
    "df_carbon = read_file(PROC_CARBON, index=\"company\")\n",
    "df_stock = read_file(STOCK2USE)\n"
   ]
  },
  {
   "cell_type": "code",
   "execution_count": 31,
   "metadata": {
    "ExecuteTime": {
     "end_time": "2022-07-24T18:55:44.759395Z",
     "start_time": "2022-07-24T18:55:44.728034Z"
    }
   },
   "outputs": [
    {
     "data": {
      "text/plain": [
       "3.159028188827477"
      ]
     },
     "execution_count": 31,
     "metadata": {},
     "output_type": "execute_result"
    }
   ],
   "source": [
    "\n",
    "carbon_to_use = df_carbon[df_carbon.index.isin(stock_names)]\n",
    "carbon_to_use.loc[\"aapl\"][\"intensity\"]\n"
   ]
  },
  {
   "cell_type": "code",
   "execution_count": 18,
   "metadata": {
    "ExecuteTime": {
     "end_time": "2022-07-24T18:22:33.314229Z",
     "start_time": "2022-07-24T18:22:33.283335Z"
    }
   },
   "outputs": [],
   "source": [
    "stock_names = list(df_stock.columns)\n",
    "carbon_to_use = df_carbon[df_carbon.index.isin(stock_names)]\n",
    "\n",
    "# dumpting data as dictionary with stock names used in optim as key and intensity as values\n",
    "dic_intensity = {\n",
    "    stock: carbon_to_use.loc[stock][\"intensity\"]\n",
    "    for stock in carbon_to_use.index}\n"
   ]
  },
  {
   "cell_type": "code",
   "execution_count": 33,
   "metadata": {
    "ExecuteTime": {
     "end_time": "2022-07-24T19:00:31.875939Z",
     "start_time": "2022-07-24T19:00:31.845276Z"
    }
   },
   "outputs": [
    {
     "data": {
      "text/plain": [
       "{'aapl': 3.159028188827477,\n",
       " 'dis': 26.526160701451776,\n",
       " 'unh': 0.9202773959433715,\n",
       " 'cvx': 396.4707807327787,\n",
       " 'ba': 15.0503821926884,\n",
       " 'cmcsa': 21.21127535526469,\n",
       " 'nvda': 4.573745305565039,\n",
       " 'cost': 15.445858954964866,\n",
       " 'nke': 8.075644860290922,\n",
       " 'mo': 17.32343200692923,\n",
       " 'ci': 1.335005138746146,\n",
       " 'intu': 3.776385613207547,\n",
       " 'rtn': 15.49050188483997,\n",
       " 'pld': 2.2482134636786046,\n",
       " 'ecl': 43.71238461433577,\n",
       " 'wba': 16.359066532228603,\n",
       " 'slb': 62.928538777997865,\n",
       " 'shw': 47.75627102534417,\n",
       " 'el': 6.429070645226401,\n",
       " 'hum': 1.9761034579701997,\n",
       " 'adsk': 6.02225854152074,\n",
       " 'exc': 464.6753369459497,\n",
       " 'sre': 458.656541456319,\n",
       " 'syy': 21.1237423503993,\n",
       " 'well': 38.18488207315861,\n",
       " 'es': 148.66679900253325,\n",
       " 'avb': 35.565662158820075,\n",
       " 'bby': 14.759812495627228,\n",
       " 'klac': 4.392519518904314,\n",
       " 'pcar': 11.723975025217378,\n",
       " 'ppg': 75.90737608950175,\n",
       " 'ed': 349.19348301856206,\n",
       " 'oke': 397.03979831648775,\n",
       " 'mck': 1.4151615115785348,\n",
       " 'eix': 173.81686023544285,\n",
       " 'abc': 0.6870290378001237,\n",
       " 'hal': 87.45655344863513,\n",
       " 'tif': 9.753269849845791,\n",
       " 'gww': 10.922288566081455,\n",
       " 'bkr': 30.902391047777243,\n",
       " 'has': 3.175572959132649,\n",
       " 'iff': 58.42859114643501,\n",
       " 'omc': 6.632091143346718,\n",
       " 'fmc': 70.86365015284811,\n",
       " 'expd': 5.978441492855138,\n",
       " 'viac': 12.93051164393,\n",
       " 'reg': 30.21744463525056,\n",
       " 'ipg': 2.3891542452441734,\n",
       " 'kim': 38.45701353581247,\n",
       " 'pvh': 14.547365586943917}"
      ]
     },
     "execution_count": 33,
     "metadata": {},
     "output_type": "execute_result"
    }
   ],
   "source": []
  },
  {
   "cell_type": "code",
   "execution_count": 34,
   "metadata": {
    "ExecuteTime": {
     "end_time": "2022-07-24T19:01:47.845286Z",
     "start_time": "2022-07-24T19:01:47.829633Z"
    }
   },
   "outputs": [],
   "source": [
    "\n",
    "with open(DIC_CARBON_INTENSITY_JSON, 'w') as f:\n",
    "    json.dump(dic_intensity, f)\n",
    "    "
   ]
  },
  {
   "cell_type": "code",
   "execution_count": null,
   "metadata": {},
   "outputs": [],
   "source": []
  }
 ],
 "metadata": {
  "hide_input": false,
  "kernelspec": {
   "display_name": "Python 3",
   "language": "python",
   "name": "python3"
  },
  "language_info": {
   "codemirror_mode": {
    "name": "ipython",
    "version": 3
   },
   "file_extension": ".py",
   "mimetype": "text/x-python",
   "name": "python",
   "nbconvert_exporter": "python",
   "pygments_lexer": "ipython3",
   "version": "3.7.6"
  },
  "toc": {
   "base_numbering": 1,
   "nav_menu": {},
   "number_sections": true,
   "sideBar": true,
   "skip_h1_title": false,
   "title_cell": "Table of Contents",
   "title_sidebar": "Contents",
   "toc_cell": false,
   "toc_position": {},
   "toc_section_display": true,
   "toc_window_display": false
  }
 },
 "nbformat": 4,
 "nbformat_minor": 5
}
