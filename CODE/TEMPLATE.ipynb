{
 "cells": [
  {
   "cell_type": "markdown",
   "id": "d5c42d89",
   "metadata": {},
   "source": [
    "# Description"
   ]
  },
  {
   "cell_type": "markdown",
   "id": "d66431ff",
   "metadata": {},
   "source": [
    "TEMPLATE NOTEBOOK"
   ]
  },
  {
   "cell_type": "markdown",
   "id": "2be39246",
   "metadata": {},
   "source": [
    "# Setup"
   ]
  },
  {
   "cell_type": "code",
   "execution_count": 1,
   "id": "19bf40cc",
   "metadata": {
    "ExecuteTime": {
     "end_time": "2022-02-09T21:45:43.552361Z",
     "start_time": "2022-02-09T21:45:43.208598Z"
    }
   },
   "outputs": [],
   "source": [
    "%matplotlib notebook\n",
    "%load_ext autoreload"
   ]
  },
  {
   "cell_type": "markdown",
   "id": "bf20bfb5",
   "metadata": {},
   "source": [
    "## Imports"
   ]
  },
  {
   "cell_type": "code",
   "execution_count": null,
   "id": "c856eb09",
   "metadata": {},
   "outputs": [],
   "source": [
    "# os related\n",
    "from pathlib import Path\n",
    "import os \n",
    "\n",
    "# data related\n",
    "import pandas as pd\n",
    "import missingno as msno\n",
    "import datetime as dt\n",
    "import numpy as np\n",
    "\n",
    "\n",
    "# visual related\n",
    "import matplotlib.pyplot as plt\n",
    "# time related"
   ]
  },
  {
   "cell_type": "code",
   "execution_count": 2,
   "id": "9409a5e4",
   "metadata": {
    "ExecuteTime": {
     "end_time": "2022-02-09T21:46:03.755068Z",
     "start_time": "2022-02-09T21:46:03.489536Z"
    }
   },
   "outputs": [],
   "source": [
    "\n",
    "from fonctions import *"
   ]
  },
  {
   "cell_type": "markdown",
   "id": "0569930d",
   "metadata": {},
   "source": [
    "## Paths"
   ]
  },
  {
   "cell_type": "code",
   "execution_count": null,
   "id": "8a9dae49",
   "metadata": {},
   "outputs": [],
   "source": [
    "RAW_DATA = PROJECT_PATH / \"RAW_DATA\" \n",
    "PROC_DATA = PROJECT_PATH / \"PROC_DATA\"\n",
    "\n",
    "# RAW FILES\n",
    "CSV_FILE = RAW_DATA / \"Individual_stock_data_csv.csv\"\n",
    "XLSX_FILE = RAW_DATA / \"Individual_stock_data.xlsx\"\n",
    "\n",
    "# PROC FILES\n",
    "PROC_STOCK = PROC_DATA / \"proc_stock.csv\"\n",
    "PROC_CARBON = PROC_DATA / \"proc_carbon.csv\"\n",
    "\n",
    "PROC_SP = PROC_DATA / \"proc_sp.csv\"\n",
    "STOCK_2000 = PROC_DATA / \"stock_2000.csv\""
   ]
  },
  {
   "cell_type": "markdown",
   "id": "4d827b32",
   "metadata": {},
   "source": [
    "## Utils"
   ]
  },
  {
   "cell_type": "markdown",
   "id": "cdbb836c",
   "metadata": {},
   "source": [
    "# Notebook"
   ]
  },
  {
   "cell_type": "code",
   "execution_count": null,
   "id": "07e69d47",
   "metadata": {},
   "outputs": [],
   "source": []
  }
 ],
 "metadata": {
  "kernelspec": {
   "display_name": "Python 3",
   "language": "python",
   "name": "python3"
  },
  "language_info": {
   "codemirror_mode": {
    "name": "ipython",
    "version": 3
   },
   "file_extension": ".py",
   "mimetype": "text/x-python",
   "name": "python",
   "nbconvert_exporter": "python",
   "pygments_lexer": "ipython3",
   "version": "3.8.8"
  },
  "toc": {
   "base_numbering": 1,
   "nav_menu": {},
   "number_sections": true,
   "sideBar": true,
   "skip_h1_title": false,
   "title_cell": "Table of Contents",
   "title_sidebar": "Contents",
   "toc_cell": false,
   "toc_position": {},
   "toc_section_display": true,
   "toc_window_display": false
  }
 },
 "nbformat": 4,
 "nbformat_minor": 5
}
