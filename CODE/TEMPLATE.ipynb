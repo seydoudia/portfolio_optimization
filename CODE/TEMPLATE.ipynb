{
 "cells": [
  {
   "cell_type": "markdown",
   "id": "c7332c7c",
   "metadata": {},
   "source": [
    "# Description"
   ]
  },
  {
   "cell_type": "markdown",
   "id": "b9c4fddb",
   "metadata": {},
   "source": [
    "TEMPLATE NOTEBOOK"
   ]
  },
  {
   "cell_type": "markdown",
   "id": "76cddcda",
   "metadata": {},
   "source": [
    "# Setup"
   ]
  },
  {
   "cell_type": "code",
   "execution_count": 1,
   "id": "62ae3a61",
   "metadata": {
    "ExecuteTime": {
     "end_time": "2022-02-09T21:45:43.552361Z",
     "start_time": "2022-02-09T21:45:43.208598Z"
    }
   },
   "outputs": [],
   "source": [
    "%matplotlib notebook\n",
    "%load_ext autoreload"
   ]
  },
  {
   "cell_type": "markdown",
   "id": "8ce55664",
   "metadata": {},
   "source": [
    "## Imports"
   ]
  },
  {
   "cell_type": "code",
   "execution_count": 4,
   "id": "68cb156c",
   "metadata": {
    "ExecuteTime": {
     "end_time": "2022-02-09T21:48:03.802212Z",
     "start_time": "2022-02-09T21:48:03.411991Z"
    }
   },
   "outputs": [],
   "source": [
    "# os related\n",
    "from pathlib import Path\n",
    "import os \n",
    "\n",
    "# data related\n",
    "import pandas as pd\n",
    "import missingno as msno\n",
    "import datetime as dt\n",
    "import numpy as np\n",
    "\n",
    "\n",
    "# visual related\n",
    "import matplotlib.pyplot as plt\n",
    "# time related"
   ]
  },
  {
   "cell_type": "code",
   "execution_count": 5,
   "id": "41a7f717",
   "metadata": {
    "ExecuteTime": {
     "end_time": "2022-02-09T21:48:04.771245Z",
     "start_time": "2022-02-09T21:48:04.755714Z"
    }
   },
   "outputs": [],
   "source": [
    "\n",
    "from fonctions import *"
   ]
  },
  {
   "cell_type": "markdown",
   "id": "d7fa29c5",
   "metadata": {},
   "source": [
    "## Paths"
   ]
  },
  {
   "cell_type": "code",
   "execution_count": 6,
   "id": "b90392d0",
   "metadata": {
    "ExecuteTime": {
     "end_time": "2022-02-09T21:48:05.270956Z",
     "start_time": "2022-02-09T21:48:05.255334Z"
    }
   },
   "outputs": [],
   "source": [
    "# MUST BE IN CODE FOLDER TO WORK !\n",
    "PROJECT_PATH = Path(os.getcwd()).parent\n",
    "\n",
    "RAW_DATA = PROJECT_PATH / \"RAW_DATA\" \n",
    "PROC_DATA = PROJECT_PATH / \"PROC_DATA\"\n",
    "\n",
    "# RAW FILES\n",
    "CSV_FILE = RAW_DATA / \"Individual_stock_data_csv.csv\"\n",
    "XLSX_FILE = RAW_DATA / \"Individual_stock_data.xlsx\"\n",
    "\n",
    "# PROC FILES\n",
    "PROC_STOCK = PROC_DATA / \"proc_stock.csv\"\n",
    "PROC_CARBON = PROC_DATA / \"proc_carbon.csv\"\n",
    "\n",
    "STOCK_2000 = PROC_DATA / \"stock_2000.csv\""
   ]
  },
  {
   "cell_type": "markdown",
   "id": "964cf55c",
   "metadata": {},
   "source": [
    "## Utils"
   ]
  },
  {
   "cell_type": "markdown",
   "id": "946e5bf0",
   "metadata": {},
   "source": [
    "# Notebook"
   ]
  }
 ],
 "metadata": {
  "kernelspec": {
   "display_name": "Python 3",
   "language": "python",
   "name": "python3"
  },
  "language_info": {
   "codemirror_mode": {
    "name": "ipython",
    "version": 3
   },
   "file_extension": ".py",
   "mimetype": "text/x-python",
   "name": "python",
   "nbconvert_exporter": "python",
   "pygments_lexer": "ipython3",
   "version": "3.8.8"
  },
  "toc": {
   "base_numbering": 1,
   "nav_menu": {},
   "number_sections": true,
   "sideBar": true,
   "skip_h1_title": false,
   "title_cell": "Table of Contents",
   "title_sidebar": "Contents",
   "toc_cell": false,
   "toc_position": {},
   "toc_section_display": true,
   "toc_window_display": false
  }
 },
 "nbformat": 4,
 "nbformat_minor": 5
}
