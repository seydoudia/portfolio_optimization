{
 "cells": [
  {
   "cell_type": "markdown",
   "metadata": {},
   "source": [
    "# Description"
   ]
  },
  {
   "cell_type": "markdown",
   "metadata": {},
   "source": [
    "Perform asset optimization \n",
    "\n",
    "\n",
    "Methods : \n",
    "* Equally weighted\n",
    "* \n",
    "* \n",
    "* "
   ]
  },
  {
   "cell_type": "markdown",
   "metadata": {},
   "source": [
    "# Setup"
   ]
  },
  {
   "cell_type": "code",
   "execution_count": 1,
   "metadata": {
    "ExecuteTime": {
     "end_time": "2022-02-19T17:16:39.030411Z",
     "start_time": "2022-02-19T17:16:33.640555Z"
    }
   },
   "outputs": [],
   "source": [
    "%matplotlib notebook\n",
    "%load_ext autoreload"
   ]
  },
  {
   "cell_type": "markdown",
   "metadata": {},
   "source": [
    "## Imports"
   ]
  },
  {
   "cell_type": "code",
   "execution_count": 2,
   "metadata": {
    "ExecuteTime": {
     "end_time": "2022-02-19T17:16:49.702646Z",
     "start_time": "2022-02-19T17:16:39.030411Z"
    }
   },
   "outputs": [],
   "source": [
    "# os related\n",
    "from pathlib import Path\n",
    "import os \n",
    "\n",
    "# data related\n",
    "import pandas as pd\n",
    "import missingno as msno\n",
    "import datetime as dt\n",
    "import numpy as np\n",
    "\n",
    "\n",
    "# visual related\n",
    "import matplotlib.pyplot as plt\n",
    "# time related"
   ]
  },
  {
   "cell_type": "code",
   "execution_count": 3,
   "metadata": {
    "ExecuteTime": {
     "end_time": "2022-02-19T17:16:51.505569Z",
     "start_time": "2022-02-19T17:16:51.463734Z"
    }
   },
   "outputs": [],
   "source": [
    "\n",
    "from fonctions import *"
   ]
  },
  {
   "cell_type": "markdown",
   "metadata": {},
   "source": [
    "## Paths"
   ]
  },
  {
   "cell_type": "code",
   "execution_count": 4,
   "metadata": {
    "ExecuteTime": {
     "end_time": "2022-02-19T17:16:53.954969Z",
     "start_time": "2022-02-19T17:16:53.939342Z"
    }
   },
   "outputs": [],
   "source": [
    "# MUST BE IN CODE FOLDER TO WORK !\n",
    "PROJECT_PATH = Path(os.getcwd()).parent\n",
    "\n",
    "RAW_DATA = PROJECT_PATH / \"RAW_DATA\" \n",
    "PROC_DATA = PROJECT_PATH / \"PROC_DATA\"\n",
    "\n",
    "# RAW FILES\n",
    "CSV_FILE = RAW_DATA / \"Individual_stock_data_csv.csv\"\n",
    "XLSX_FILE = RAW_DATA / \"Individual_stock_data.xlsx\"\n",
    "\n",
    "# PROC FILES\n",
    "PROC_STOCK = PROC_DATA / \"proc_stock.csv\"\n",
    "PROC_CARBON = PROC_DATA / \"proc_carbon.csv\"\n",
    "\n",
    "STOCK_2000 = PROC_DATA / \"stock_2000.csv\"\n",
    "\n",
    "\n",
    "STOCK_WORK = PROC_DATA / \"stock_work.csv\"\n",
    "STOCK2USE = PROC_DATA / \"stock2use.csv\"\n",
    "DIC2USE = PROC_DATA / \"dic2use.json\""
   ]
  },
  {
   "cell_type": "markdown",
   "metadata": {},
   "source": [
    "## Utils"
   ]
  },
  {
   "cell_type": "markdown",
   "metadata": {},
   "source": [
    "# Notebook"
   ]
  },
  {
   "cell_type": "markdown",
   "metadata": {},
   "source": [
    "## Loading data"
   ]
  },
  {
   "cell_type": "code",
   "execution_count": 5,
   "metadata": {
    "ExecuteTime": {
     "end_time": "2022-02-19T17:17:35.323330Z",
     "start_time": "2022-02-19T17:17:34.949844Z"
    }
   },
   "outputs": [],
   "source": [
    "df = read_file(STOCK2USE)"
   ]
  },
  {
   "cell_type": "code",
   "execution_count": 7,
   "metadata": {
    "ExecuteTime": {
     "end_time": "2022-02-19T17:24:33.729131Z",
     "start_time": "2022-02-19T17:24:33.312959Z"
    }
   },
   "outputs": [],
   "source": [
    "mean, std = equaly_weighted(df)"
   ]
  },
  {
   "cell_type": "code",
   "execution_count": 16,
   "metadata": {
    "ExecuteTime": {
     "end_time": "2022-02-19T17:38:54.438752Z",
     "start_time": "2022-02-19T17:38:54.408456Z"
    },
    "scrolled": true
   },
   "outputs": [
    {
     "data": {
      "text/plain": [
       "<bound method DataFrame.cov of                 aapl      intu      klac      nvda      adsk        has  \\\n",
       "timestamp                                                                 \n",
       "1999-12-14    723.14   1052.36   3570.27    188.89   1732.45   12798.09   \n",
       "1999-12-21    781.26   1041.73   4664.87    215.88   1796.35   11551.52   \n",
       "1999-12-28    748.39   1109.05   4691.89    226.04   1807.00   12091.70   \n",
       "2000-01-04    781.26   1150.39   4491.89    231.43   1803.45   11468.42   \n",
       "2000-01-11    706.94   1556.69   4997.30    210.80   1710.92   11219.11   \n",
       "...              ...       ...       ...       ...       ...        ...   \n",
       "2019-11-12  64259.93  10705.25  26537.44  13861.57  37195.60   98409.38   \n",
       "2019-11-19  65322.11  11210.91  26904.27  13754.43  38718.16   99295.50   \n",
       "2019-11-26  64831.50  10948.20  24785.44  14350.27  40193.65  104705.90   \n",
       "2019-12-03  63644.21  10445.84  23906.42  13742.68  41276.14  103444.50   \n",
       "2019-12-10  65859.31  10389.84  24822.13  14160.93  41996.25  104174.30   \n",
       "\n",
       "                 nke       tif       pvh       bby  ...       ecl        shw  \\\n",
       "timestamp                                           ...                        \n",
       "1999-12-14   3639.86   2229.50    820.23  12932.70  ...   1321.58    2563.78   \n",
       "1999-12-21   4460.95   2326.31    833.24  11866.08  ...   1397.02    2571.97   \n",
       "1999-12-28   4540.41   2493.73    807.21  11899.41  ...   1460.30    2645.69   \n",
       "2000-01-04   4131.77   2319.26    781.17  15299.24  ...   1433.10    2539.20   \n",
       "2000-01-11   4642.57   2458.48    716.07  14899.26  ...   1569.81    2531.01   \n",
       "...              ...       ...       ...       ...  ...       ...        ...   \n",
       "2019-11-12  84014.56   9375.33  11098.04  63992.09  ...  18624.54  107804.80   \n",
       "2019-11-19  87872.63   9326.25  11249.25  64136.77  ...  18734.31  107450.90   \n",
       "2019-11-26  87609.81  10060.26  11465.47  69421.88  ...  18417.84  107999.10   \n",
       "2019-12-03  87020.56  10070.83  10780.18  66477.19  ...  18329.82  106294.00   \n",
       "2019-12-10  91302.88  10078.39  11615.59  70536.81  ...  18311.02  104995.50   \n",
       "\n",
       "                iff       fmc       ppg      pld      reg      avb      well  \\\n",
       "timestamp                                                                      \n",
       "1999-12-14   522.75   2291.15   4581.13    91.32   162.15   209.19   2293.00   \n",
       "1999-12-21   546.18   2253.14   4493.78    95.24   170.54   224.67   2418.78   \n",
       "1999-12-28   553.74   2418.73   4784.95    96.48   172.64   234.30   2322.03   \n",
       "2000-01-04   531.06   2359.01   4498.63    96.79   167.92   225.51   2370.40   \n",
       "2000-01-11   550.91   2511.03   4804.36   100.20   174.21   239.10   2602.61   \n",
       "...             ...       ...       ...      ...      ...      ...       ...   \n",
       "2019-11-12  3039.61  42682.85  33900.81   964.48  1406.80  3192.37  47500.63   \n",
       "2019-11-19  3186.75  42292.26  33520.81  1013.47  1416.35  3315.64  49122.66   \n",
       "2019-11-26  3303.15  42756.63  33760.27  1027.94  1404.41  3293.49  48810.95   \n",
       "2019-12-03  3287.32  42205.46  33304.79  1010.13  1392.04  3261.26  48447.29   \n",
       "2019-12-10  3119.46  42457.18  34478.62  1014.70  1394.64  3288.45  47731.53   \n",
       "\n",
       "                kim  \n",
       "timestamp            \n",
       "1999-12-14   366.31  \n",
       "1999-12-21   401.48  \n",
       "1999-12-28   399.28  \n",
       "2000-01-04   401.05  \n",
       "2000-01-11   423.46  \n",
       "...             ...  \n",
       "2019-11-12  2019.03  \n",
       "2019-11-19  2110.59  \n",
       "2019-11-26  2101.82  \n",
       "2019-12-03  2060.92  \n",
       "2019-12-10  2061.89  \n",
       "\n",
       "[1044 rows x 50 columns]>"
      ]
     },
     "execution_count": 16,
     "metadata": {},
     "output_type": "execute_result"
    }
   ],
   "source": [
    "df.cov"
   ]
  },
  {
   "cell_type": "code",
   "execution_count": null,
   "metadata": {},
   "outputs": [],
   "source": []
  }
 ],
 "metadata": {
  "hide_input": false,
  "kernelspec": {
   "display_name": "ml_work",
   "language": "python",
   "name": "ml_work"
  },
  "language_info": {
   "codemirror_mode": {
    "name": "ipython",
    "version": 3
   },
   "file_extension": ".py",
   "mimetype": "text/x-python",
   "name": "python",
   "nbconvert_exporter": "python",
   "pygments_lexer": "ipython3",
   "version": "3.6.10"
  },
  "toc": {
   "base_numbering": 1,
   "nav_menu": {},
   "number_sections": true,
   "sideBar": true,
   "skip_h1_title": false,
   "title_cell": "Table of Contents",
   "title_sidebar": "Contents",
   "toc_cell": false,
   "toc_position": {},
   "toc_section_display": true,
   "toc_window_display": false
  }
 },
 "nbformat": 4,
 "nbformat_minor": 5
}
