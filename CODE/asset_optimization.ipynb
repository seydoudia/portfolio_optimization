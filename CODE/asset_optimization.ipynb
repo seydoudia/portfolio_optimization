{
 "cells": [
  {
   "cell_type": "markdown",
   "metadata": {},
   "source": [
    "# Description\n",
    "\n",
    "* Author: Seydou DIA & Simona MILADINOVA\n",
    "\n",
    "\n",
    "Notebook to perform asset optimization and include carbone footprint penalties\n"
   ]
  },
  {
   "cell_type": "markdown",
   "metadata": {},
   "source": [
    "\n",
    "# Setup"
   ]
  },
  {
   "cell_type": "code",
   "execution_count": null,
   "metadata": {
    "ExecuteTime": {
     "end_time": "2022-09-10T12:53:40.540253Z",
     "start_time": "2022-09-10T12:53:32.578338Z"
    }
   },
   "outputs": [],
   "source": [
    "%matplotlib notebook\n",
    "%load_ext autoreload"
   ]
  },
  {
   "cell_type": "markdown",
   "metadata": {
    "ExecuteTime": {
     "end_time": "2022-07-24T16:21:50.780324Z",
     "start_time": "2022-07-24T16:21:50.764700Z"
    }
   },
   "source": [
    "## Imports\n"
   ]
  },
  {
   "cell_type": "code",
   "execution_count": null,
   "metadata": {
    "ExecuteTime": {
     "end_time": "2022-09-10T12:54:48.709164Z",
     "start_time": "2022-09-10T12:54:12.207327Z"
    }
   },
   "outputs": [],
   "source": [
    "\n",
    "\n",
    "\n",
    "# os related\n",
    "from pathlib import Path\n",
    "import os \n",
    "\n",
    "# data related\n",
    "import pandas as pd\n",
    "# import missingno as msno\n",
    "import datetime as dt\n",
    "import numpy as np\n",
    "import pickle\n",
    "import json\n",
    "\n",
    "# optimization related\n",
    "# from gurobipy import (Model, GRB, quicksum, multidict, tuplelist)\n",
    "\n",
    "# visual related\n",
    "import matplotlib.pyplot as plt\n",
    "import seaborn as sns\n",
    "\n",
    "# time related\n",
    "\n",
    "\n",
    "\n",
    "from fonctions import *"
   ]
  },
  {
   "cell_type": "markdown",
   "metadata": {},
   "source": [
    "## Paths"
   ]
  },
  {
   "cell_type": "code",
   "execution_count": null,
   "metadata": {
    "ExecuteTime": {
     "end_time": "2022-09-10T12:54:58.167677Z",
     "start_time": "2022-09-10T12:54:58.104695Z"
    }
   },
   "outputs": [],
   "source": [
    "# MUST BE IN CODE FOLDER TO WORK !\n",
    "PROJECT_PATH = Path(os.getcwd()).parent\n",
    "\n",
    "RAW_DATA = PROJECT_PATH / \"RAW_DATA\" \n",
    "PROC_DATA = PROJECT_PATH / \"PROC_DATA\"\n",
    "\n",
    "# RAW FILES\n",
    "CSV_FILE = RAW_DATA / \"Individual_stock_data_csv.csv\"\n",
    "XLSX_FILE = RAW_DATA / \"Individual_stock_data.xlsx\"\n",
    "\n",
    "# PROC FILES\n",
    "PROC_STOCK = PROC_DATA / \"proc_stock.csv\"\n",
    "PROC_CARBON = PROC_DATA / \"proc_carbon.csv\"\n",
    "\n",
    "STOCK_2000 = PROC_DATA / \"stock_2000.csv\"\n",
    "\n",
    "\n",
    "STOCK_WORK = PROC_DATA / \"stock_work.csv\"\n",
    "STOCK2USE = PROC_DATA / \"stock2use.csv\"\n",
    "DIC2USE = PROC_DATA / \"dic2use.json\"\n",
    "\n",
    "\n",
    "OUT_RENDEMENT = PROC_DATA / \"rendement_v1\"\n",
    "\n",
    "OUT_DF_CSV = PROC_DATA / \"optimize_assets.csv\"\n",
    "OUT_DF_CSV_CARBON = PROC_DATA / \"optimize_assets_carbon_penalty.csv\"\n",
    "\n",
    "DIC_CARBON_INTENSITY_JSON = PROC_DATA / \"dic_intensity.json\""
   ]
  },
  {
   "cell_type": "code",
   "execution_count": null,
   "metadata": {},
   "outputs": [],
   "source": []
  },
  {
   "cell_type": "markdown",
   "metadata": {},
   "source": [
    "## Utils"
   ]
  },
  {
   "cell_type": "code",
   "execution_count": null,
   "metadata": {
    "ExecuteTime": {
     "end_time": "2022-09-10T12:54:59.817432Z",
     "start_time": "2022-09-10T12:54:59.723373Z"
    }
   },
   "outputs": [],
   "source": [
    "with open(DIC_CARBON_INTENSITY_JSON) as jsonFile:\n",
    "    dic_intensity = json.load(jsonFile)"
   ]
  },
  {
   "cell_type": "markdown",
   "metadata": {},
   "source": [
    "## HYPERPARAMETERS"
   ]
  },
  {
   "cell_type": "code",
   "execution_count": null,
   "metadata": {
    "ExecuteTime": {
     "end_time": "2022-09-10T12:55:00.571002Z",
     "start_time": "2022-09-10T12:55:00.539762Z"
    }
   },
   "outputs": [],
   "source": [
    "USE_CARBON_PENALTY = True"
   ]
  },
  {
   "cell_type": "code",
   "execution_count": null,
   "metadata": {
    "ExecuteTime": {
     "end_time": "2022-09-10T12:55:01.151662Z",
     "start_time": "2022-09-10T12:55:01.120322Z"
    }
   },
   "outputs": [],
   "source": [
    "EW_INTENSITY = sum(dic_intensity.values()) * 1/50"
   ]
  },
  {
   "cell_type": "markdown",
   "metadata": {},
   "source": [
    "\n",
    "\n",
    "# Notebook"
   ]
  },
  {
   "cell_type": "markdown",
   "metadata": {
    "ExecuteTime": {
     "end_time": "2022-07-24T16:41:05.632492Z",
     "start_time": "2022-07-24T16:41:05.616866Z"
    }
   },
   "source": [
    "## Loading data"
   ]
  },
  {
   "cell_type": "code",
   "execution_count": null,
   "metadata": {
    "ExecuteTime": {
     "end_time": "2022-09-10T12:55:06.949238Z",
     "start_time": "2022-09-10T12:55:03.777573Z"
    }
   },
   "outputs": [],
   "source": [
    "\n",
    "\n",
    "df = read_file(STOCK2USE)\n",
    "\n",
    "carbon_df = read_file(PROC_CARBON, index=\"company\")\n",
    "\n",
    "## EW\n",
    "\n",
    "# mean, std = equally_weighted(df) # correct std function in fonctions.py \n",
    "\n",
    "weeks = 12\n",
    "nb_period = len(df)//12\n",
    "\n",
    "# df_period = \n",
    "# compute_weights(df_period, method)\n",
    "# apply weights\n",
    "# compute(return and risk)\n",
    "# compute\n",
    "\n",
    "\n",
    "sns.heatmap(df.corr(), vmin=-1, vmax=1, cmap=\"rocket_r\")"
   ]
  },
  {
   "cell_type": "markdown",
   "metadata": {},
   "source": [
    "## GMV"
   ]
  },
  {
   "cell_type": "code",
   "execution_count": null,
   "metadata": {
    "ExecuteTime": {
     "end_time": "2022-07-24T20:09:27.060190Z",
     "start_time": "2022-07-24T20:09:27.034550Z"
    }
   },
   "outputs": [],
   "source": [
    "\n",
    "cov = df.cov().to_numpy()\n",
    "def gmv(cov, nb_weights=50, intensity_list=None, penalty=1.5):\n",
    "    \"\"\"Function that computes weights for global minimum volatility\n",
    "    Parameters:\n",
    "    cov(matrix):covariance of data\n",
    "    nb_weights(int):number of weights to optimize\n",
    "    intensity_list : list of intensity of stock to optimize\n",
    "    penalty : to apply in objective\n",
    "    Returns:\n",
    "    weights(list)\"\"\"\n",
    "    \n",
    "    model = Model()\n",
    "    model.modelSense = GRB.MINIMIZE\n",
    "\n",
    "    # Définir poids\n",
    "    w = model.addVars(len(df.columns), vtype=GRB.CONTINUOUS, ub=1)\n",
    "\n",
    "    arr = np.array(w.select(\"*\"))\n",
    "    vecw_col = np.reshape(arr, (len(arr), 1)) # vecteur colonne des poids\n",
    "\n",
    "    # Contraintes\n",
    "    model.addConstr(w.sum() == 1)\n",
    "        \n",
    "    obj = np.dot(vecw_col.T,np.dot(cov, vecw_col))[0][0]\n",
    "    if intensity_list is not None:\n",
    "        obj += np.dot(vecw_col.T, intensity_list)[0] * penalty\n",
    "    model.setObjective(obj)\n",
    "\n",
    "    model.setParam('OutputFlag', 0) # Mute output\n",
    "    model.update()\n",
    "    model.optimize()\n",
    "    \n",
    "    opt_w =  [w[i].x for i in range(len(w))]\n",
    "    \n",
    "    return opt_w"
   ]
  },
  {
   "cell_type": "markdown",
   "metadata": {},
   "source": [
    "\n",
    "\n",
    "## Max Decor"
   ]
  },
  {
   "cell_type": "code",
   "execution_count": null,
   "metadata": {
    "ExecuteTime": {
     "end_time": "2022-07-24T20:12:28.343595Z",
     "start_time": "2022-07-24T20:12:28.327943Z"
    }
   },
   "outputs": [],
   "source": [
    "\n",
    "\n",
    "# cor = df.corr().to_numpy()\n",
    "# plt.figure()\n",
    "# sns.heatmap(cor)\n",
    "\n",
    "def max_decor(corr, nb_weights=50, intensity_list=None, penalty=1.5):\n",
    "    model = Model()\n",
    "\n",
    "    model.modelSense = GRB.MINIMIZE\n",
    "\n",
    "    # Définir poids\n",
    "    w = model.addVars(len(df.columns), vtype=GRB.CONTINUOUS, ub=1)\n",
    "    arr = np.array(w.select(\"*\"))\n",
    "    vecw_col = np.reshape(arr, (len(arr), 1)) # vecteur colonne des poids\n",
    "    # Contraintes\n",
    "    model.addConstr(w.sum() == 1)\n",
    "    \n",
    "    obj = np.dot(vecw_col.T, np.dot(corr, vecw_col))[0][0]    \n",
    "    if intensity_list is not None:\n",
    "        obj += np.dot(vecw_col.T, intensity_list)[0] * penalty\n",
    "    model.setObjective(obj)    \n",
    "    \n",
    "    model.setParam('OutputFlag', 0) # Mute output\n",
    "    model.update()\n",
    "    model.optimize()\n",
    "    \n",
    "    opt_w =  [w[i].x for i in range(len(w))]\n",
    "    return opt_w"
   ]
  },
  {
   "cell_type": "markdown",
   "metadata": {},
   "source": [
    "## Max div"
   ]
  },
  {
   "cell_type": "code",
   "execution_count": null,
   "metadata": {
    "ExecuteTime": {
     "end_time": "2022-07-24T20:15:56.143374Z",
     "start_time": "2022-07-24T20:15:56.112122Z"
    }
   },
   "outputs": [],
   "source": [
    "\n",
    "\n",
    "def max_div(cov, nb_weights=50, intensity_list=None, penalty=1.5):\n",
    "    \n",
    "    \n",
    "    model = Model()\n",
    "    model.modelSense = GRB.MINIMIZE\n",
    "    y = model.addVars(len(df.columns), vtype=GRB.CONTINUOUS)\n",
    "    arr = np.array(y.select(\"*\"))\n",
    "    vecy_col = np.reshape(arr, (len(arr), 1)) \n",
    "\n",
    "    strd = np.sqrt(np.diag(cov))\n",
    "    \n",
    "    yp = np.dot(vecy_col.T,np.reshape(strd,(len(strd),1)))\n",
    "\n",
    "    port_variance = np.dot(vecy_col.T,np.dot(cov, vecy_col))[0][0]\n",
    "\n",
    "    model.addConstr(yp[0][0] == 1)\n",
    "    obj = port_variance\n",
    "\n",
    "    if intensity_list is not None:\n",
    "        obj += np.dot(vecy_col.T, intensity_list)[0] * penalty\n",
    "    model.setObjective(obj)  \n",
    "    \n",
    "    model.setObjective(obj)\n",
    "    model.setParam('OutputFlag', 0) # Mute output\n",
    "    model.update()\n",
    "    model.optimize()\n",
    "    \n",
    "    opt_w = [y[i].x /y.sum().getValue() for i in range(len(y))]\n",
    "    \n",
    "    return opt_w\n",
    "\n",
    "# xopt = [y[i].x /y.sum().getValue() for i in range(len(y))]"
   ]
  },
  {
   "cell_type": "markdown",
   "metadata": {},
   "source": [
    "## MSR"
   ]
  },
  {
   "cell_type": "code",
   "execution_count": null,
   "metadata": {
    "ExecuteTime": {
     "end_time": "2022-07-24T20:16:45.831414Z",
     "start_time": "2022-07-24T20:16:45.800132Z"
    }
   },
   "outputs": [],
   "source": [
    "\n",
    "\n",
    "def msr(mu, cov, nb_weights=50, intensity_list=None, penalty=1.5):\n",
    "    \n",
    "    model = Model()\n",
    "    model.modelSense = GRB.MINIMIZE\n",
    "\n",
    "    y = model.addVars(nb_weights, vtype=GRB.CONTINUOUS)\n",
    "    arr = np.array(y.select(\"*\"))\n",
    "    vecy_col = np.reshape(arr, (len(arr), 1))\n",
    "\n",
    "    yp = np.dot(vecy_col.T,np.reshape(mu,(len(mu),1)))\n",
    "    port_variance = np.dot(vecy_col.T,np.dot(cov, vecy_col))[0][0]\n",
    "\n",
    "    model.addConstr(yp[0][0] == 1)\n",
    "    obj = port_variance\n",
    "    \n",
    "    if intensity_list is not None:\n",
    "        obj += np.dot(vecy_col.T, intensity_list)[0] * penalty\n",
    "    model.setObjective(obj)\n",
    "\n",
    "    model.setObjective(obj)\n",
    "\n",
    "    model.setParam('OutputFlag', 0) # Mute output\n",
    "    model.update()\n",
    "    model.optimize()\n",
    "\n",
    "    opt_w = [y[i].x / y.sum().getValue() for i in range(len(y))]\n",
    "    \n",
    "    return opt_w"
   ]
  },
  {
   "cell_type": "markdown",
   "metadata": {},
   "source": [
    "## Rebalancement"
   ]
  },
  {
   "cell_type": "markdown",
   "metadata": {
    "ExecuteTime": {
     "end_time": "2022-07-24T16:27:49.376504Z",
     "start_time": "2022-07-24T16:27:49.360877Z"
    }
   },
   "source": [
    "\n",
    "### preparation dataset de poids"
   ]
  },
  {
   "cell_type": "code",
   "execution_count": null,
   "metadata": {
    "ExecuteTime": {
     "end_time": "2022-07-24T20:16:59.097383Z",
     "start_time": "2022-07-24T20:16:59.054961Z"
    }
   },
   "outputs": [],
   "source": [
    "\n",
    "# de la semaine 0 à la semaine 103\n",
    "nb_period = (len(df) - 104) // 12\n",
    "\n",
    "\n",
    "pf_names = ['ew', 'gmv', 'maxdecor', 'maxdiv', 'msr']\n",
    "\n",
    "dic_weight = {\n",
    "    pf:pd.DataFrame(index=range(nb_period), columns=df.columns)\n",
    "for pf in pf_names\n",
    "}"
   ]
  },
  {
   "cell_type": "markdown",
   "metadata": {},
   "source": [
    "### Calcul"
   ]
  },
  {
   "cell_type": "code",
   "execution_count": null,
   "metadata": {
    "ExecuteTime": {
     "end_time": "2022-07-24T20:32:40.529814Z",
     "start_time": "2022-07-24T20:32:35.217140Z"
    },
    "scrolled": true
   },
   "outputs": [],
   "source": [
    "# de la semaine 0 à la semaine 103\n",
    "nb_period = (len(df) - 104) // 12\n",
    "PENALTY = 1\n",
    "INTENSITY=list(dic_intensity.values())\n",
    "\n",
    "# output dataframe\n",
    "cols= [\"ew\", \"gmv\", \"maxdecor\", \"maxdiv\", \"msr\"]\n",
    "out_df = pd.DataFrame(index=range((len(df) - 104)), columns=cols)\n",
    "\n",
    "for i in range((nb_period)):\n",
    "    print(i)\n",
    "    \n",
    "    # retrieve data\n",
    "    temp_df = df.iloc[i*12:104+i*12] # 2 dernieres annees glissantes sur 3 mois\n",
    "    # print(temp_df.index[0],\"->\",temp_df.index[-1], len(temp_df))\n",
    "    mu = temp_df.pct_change().mean() # Vérifier s'il faut enlever les Nans\n",
    "    cov = temp_df.cov()\n",
    "    std = temp_df.std()\n",
    "    corr = temp_df.corr()\n",
    "    \n",
    "    # Train\n",
    "    w_gmv = gmv(cov, intensity_list=INTENSITY, penalty=PENALTY)\n",
    "    dic_weight[\"gmv\"].iloc[i] = w_gmv\n",
    "    \n",
    "    w_mdecor = max_decor(corr, intensity_list=INTENSITY, penalty=PENALTY)\n",
    "    dic_weight[\"maxdecor\"].iloc[i] = w_mdecor\n",
    "    \n",
    "    w_mdiv = max_div(cov, intensity_list=INTENSITY, penalty=PENALTY)\n",
    "    dic_weight[\"maxdiv\"].iloc[i] = w_mdiv\n",
    "    \n",
    "    w_msr = msr(mu.values, cov, intensity_list=INTENSITY, penalty=PENALTY)\n",
    "    dic_weight[\"msr\"].iloc[i] = w_msr\n",
    "    \n",
    "    dic_weight[\"ew\"].iloc[i] = [(1/len(df.columns))] * len(df.columns)\n",
    "    \n",
    "    # Test\n",
    "    test_period = df.iloc[-1+104+i*12:104+(i+1)*12]  # test data sur les 3 mois suivants   \n",
    "    test_mu = test_period.pct_change()[1:]\n",
    "     \n",
    "    out_df[\"gmv\"].iloc[i*12:(i+1)*12] = (test_mu * w_gmv).sum(axis=1) * 100\n",
    "    out_df[\"maxdecor\"].iloc[i*12:(i+1)*12] = (test_mu * w_mdecor).sum(axis=1) * 100\n",
    "    out_df[\"maxdiv\"].iloc[i*12:(i+1)*12] = (test_mu * w_mdiv).sum(axis=1) * 100\n",
    "    out_df[\"msr\"].iloc[i*12:(i+1)*12] = (test_mu * w_msr).sum(axis=1) * 100\n",
    "    out_df[\"ew\"].iloc[i*12:(i+1)*12] = (test_mu.sum(axis=1) / len(test_period.columns)) * 100"
   ]
  },
  {
   "cell_type": "code",
   "execution_count": null,
   "metadata": {
    "ExecuteTime": {
     "end_time": "2022-07-24T20:32:51.484228Z",
     "start_time": "2022-07-24T20:32:51.446093Z"
    }
   },
   "outputs": [],
   "source": [
    "\n",
    "\n",
    "\n",
    "out_df.dropna(inplace=True)\n",
    "\n",
    "if USE_CARBON_PENALTY:\n",
    "    out_df.to_csv(OUT_DF_CSV_CARBON)\n",
    "else:\n",
    "    out_df.to_csv(OUT_DF_CSV)\n"
   ]
  },
  {
   "cell_type": "code",
   "execution_count": null,
   "metadata": {
    "ExecuteTime": {
     "end_time": "2022-07-24T20:38:50.189700Z",
     "start_time": "2022-07-24T20:38:50.111904Z"
    }
   },
   "outputs": [],
   "source": [
    "if USE_CARBON_PENALTY:\n",
    "    for pf in dic_weight.keys():\n",
    "        dic_weight[pf].to_csv(PROC_DATA / f\"carbon_weight_{pf}.csv\")\n",
    "else:\n",
    "    for pf in dic_weight.keys():\n",
    "        dic_weight[pf].to_csv(PROC_DATA / f\"weight_{pf}.csv\")"
   ]
  },
  {
   "cell_type": "markdown",
   "metadata": {},
   "source": [
    "**References**"
   ]
  },
  {
   "cell_type": "markdown",
   "metadata": {},
   "source": [
    "https://corporatefinanceinstitute.com/resources/knowledge/trading-investing/tracking-error/)<br>\n",
    "https://support.gurobi.com/hc/en-us/community/posts/360074491212-Divisor-must-be-a-constant<br>\n",
    "http://yetanothermathprogrammingconsultant.blogspot.com/2016/08/portfolio-optimization-maximize-sharpe.html<br>\n"
   ]
  }
 ],
 "metadata": {
  "hide_input": false,
  "kernelspec": {
   "display_name": "Python 3",
   "language": "python",
   "name": "python3"
  },
  "language_info": {
   "codemirror_mode": {
    "name": "ipython",
    "version": 3
   },
   "file_extension": ".py",
   "mimetype": "text/x-python",
   "name": "python",
   "nbconvert_exporter": "python",
   "pygments_lexer": "ipython3",
   "version": "3.7.6"
  },
  "toc": {
   "base_numbering": 1,
   "nav_menu": {},
   "number_sections": true,
   "sideBar": true,
   "skip_h1_title": false,
   "title_cell": "Table of Contents",
   "title_sidebar": "Contents",
   "toc_cell": false,
   "toc_position": {},
   "toc_section_display": true,
   "toc_window_display": true
  }
 },
 "nbformat": 4,
 "nbformat_minor": 5
}
