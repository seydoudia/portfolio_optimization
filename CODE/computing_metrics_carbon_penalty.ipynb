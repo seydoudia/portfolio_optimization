{
 "cells": [
  {
   "cell_type": "markdown",
   "id": "af492e98",
   "metadata": {},
   "source": [
    "# Description\n",
    "\n",
    "Notebook to compute metrics.\n",
    "\n",
    "# Setup"
   ]
  },
  {
   "cell_type": "code",
   "execution_count": 1,
   "id": "d90059ab",
   "metadata": {
    "ExecuteTime": {
     "end_time": "2022-07-24T20:34:02.672133Z",
     "start_time": "2022-07-24T20:34:01.890348Z"
    }
   },
   "outputs": [],
   "source": [
    "%matplotlib notebook\n",
    "%load_ext autoreload"
   ]
  },
  {
   "cell_type": "markdown",
   "id": "1f483c17",
   "metadata": {
    "ExecuteTime": {
     "end_time": "2022-07-24T16:31:54.878143Z",
     "start_time": "2022-07-24T16:31:54.847509Z"
    }
   },
   "source": [
    "## Imports"
   ]
  },
  {
   "cell_type": "code",
   "execution_count": 2,
   "id": "9eb98cd4",
   "metadata": {
    "ExecuteTime": {
     "end_time": "2022-07-24T20:34:04.249373Z",
     "start_time": "2022-07-24T20:34:02.672133Z"
    }
   },
   "outputs": [],
   "source": [
    "# os related\n",
    "from pathlib import Path\n",
    "import os \n",
    "\n",
    "# data related\n",
    "import pandas as pd\n",
    "import missingno as msno\n",
    "import datetime as dt\n",
    "import numpy as np\n",
    "import json\n",
    "\n",
    "\n",
    "# visual related\n",
    "import matplotlib.pyplot as plt\n",
    "# time related\n",
    "\n",
    "from fonctions import *"
   ]
  },
  {
   "cell_type": "markdown",
   "id": "e43cb3cf",
   "metadata": {},
   "source": [
    "## Paths"
   ]
  },
  {
   "cell_type": "code",
   "execution_count": 11,
   "id": "df527ce6",
   "metadata": {
    "ExecuteTime": {
     "end_time": "2022-07-24T20:56:18.654346Z",
     "start_time": "2022-07-24T20:56:18.623131Z"
    }
   },
   "outputs": [],
   "source": [
    "\n",
    "# MUST BE IN CODE FOLDER TO WORK !\n",
    "PROJECT_PATH = Path(os.getcwd()).parent\n",
    "\n",
    "RAW_DATA = PROJECT_PATH / \"RAW_DATA\" \n",
    "PROC_DATA = PROJECT_PATH / \"PROC_DATA\"\n",
    "\n",
    "# RAW FILES\n",
    "CSV_FILE = RAW_DATA / \"Individual_stock_data_csv.csv\"\n",
    "XLSX_FILE = RAW_DATA / \"Individual_stock_data.xlsx\"\n",
    "\n",
    "# PROC FILES\n",
    "PROC_STOCK = PROC_DATA / \"proc_stock.csv\"\n",
    "PROC_CARBON = PROC_DATA / \"proc_carbon.csv\"\n",
    "\n",
    "STOCK_2000 = PROC_DATA / \"stock_2000.csv\"\n",
    "\n",
    "STOCK_WORK = PROC_DATA / \"stock_work.csv\"\n",
    "STOCK2USE = PROC_DATA / \"stock2use.csv\"\n",
    "DIC2USE = PROC_DATA / \"dic2use.json\"\n",
    "\n",
    "\n",
    "OUT_RENDEMENT = PROC_DATA / \"rendement_v1.csv\"\n",
    "\n",
    "OUT_DF_CSV = PROC_DATA / \"optimize_assets.csv\"\n",
    "OUT_DF_CSV_CARBON = PROC_DATA / \"optimize_assets_carbon_penalty.csv\"\n",
    "\n",
    "\n",
    "# OUT_DIC_WEIGHT = PROC_DATA / \"dic_weight.pickle\"\n",
    "\n",
    "\n",
    "DIC_METRICS_CARBON_JSON = PROC_DATA / \"dic_metrics_carbon.json\""
   ]
  },
  {
   "cell_type": "markdown",
   "id": "92f2d101",
   "metadata": {},
   "source": [
    "## Utils"
   ]
  },
  {
   "cell_type": "code",
   "execution_count": 4,
   "id": "357c6cf8",
   "metadata": {
    "ExecuteTime": {
     "end_time": "2022-07-24T20:37:15.142120Z",
     "start_time": "2022-07-24T20:37:15.126440Z"
    }
   },
   "outputs": [],
   "source": [
    "def compute_enc(weights):\n",
    "    \"\"\"Function that computes the ENC for given weights an a given window\"\"\"\n",
    "    return 1 / sum([w**2 for w in weights])\n",
    "    \n",
    "\n",
    "def compute_ir(excess_return, track_err):\n",
    "    \"\"\"Function that computes the information ratio given \n",
    "    the excess return and the track_err\"\"\"\n",
    "    return [ex_ret / track_err for (ex_ret, track_err) in zip(excess_return, track_err)]\n",
    "\n",
    "def compute_di(weight, stock, vol_p):\n",
    "    \"\"\"Function that computes the diversification index\"\"\"\n",
    "    stock_vol = stock.std() * np.sqrt(12)\n",
    "    return np.dot(stock_vol, weight) / (vol_p * np.sqrt(12))"
   ]
  },
  {
   "cell_type": "markdown",
   "id": "6be732a8",
   "metadata": {},
   "source": [
    "# Notebook\n"
   ]
  },
  {
   "cell_type": "code",
   "execution_count": 5,
   "id": "e011555c",
   "metadata": {
    "ExecuteTime": {
     "end_time": "2022-07-24T20:37:25.501552Z",
     "start_time": "2022-07-24T20:37:25.220558Z"
    }
   },
   "outputs": [],
   "source": [
    "stock_df = read_file(STOCK2USE).iloc[104:-4]\n",
    "\n",
    "return_df = pd.read_csv(OUT_DF_CSV_CARBON)\n",
    "return_df.index = read_file(STOCK2USE).index[104:-4]\n",
    "return_df.drop(columns=\"Unnamed: 0\", inplace=True)\n",
    "\n",
    "stock_ret = stock_df.pct_change()\n",
    "\n",
    "sp500 = read_file(STOCK_WORK)\n",
    "bm_return = equally_weighted(sp500) \n",
    "\n",
    "return_sp = pd.DataFrame((sp500.mean(axis=1).pct_change())*100, columns=[\"mu\"])\n",
    "return_sp = return_sp.loc[return_df.index[0]:return_df.index[-1]]"
   ]
  },
  {
   "cell_type": "code",
   "execution_count": 6,
   "id": "5adeca45",
   "metadata": {
    "ExecuteTime": {
     "end_time": "2022-07-24T20:37:26.688788Z",
     "start_time": "2022-07-24T20:37:26.673195Z"
    }
   },
   "outputs": [],
   "source": [
    "\n",
    "metrics = [\"ret\", \"vol\", \"sr\", \n",
    "           \"track_err\", \"yearly_track_error\",\n",
    "           \"ex_ret\", \"enc\", \"encb\", \n",
    "           \"ir\", \"di\"]\n"
   ]
  },
  {
   "cell_type": "code",
   "execution_count": 16,
   "id": "ee6baeb5",
   "metadata": {
    "ExecuteTime": {
     "end_time": "2022-07-24T21:02:28.720853Z",
     "start_time": "2022-07-24T21:02:28.705225Z"
    }
   },
   "outputs": [],
   "source": [
    "dic_carbon = dict.fromkeys(return_df.columns)\n",
    "for k in dic.keys():\n",
    "    dic_carbon[k] = dict.fromkeys(metrics)\n"
   ]
  },
  {
   "cell_type": "code",
   "execution_count": 17,
   "id": "44014550",
   "metadata": {
    "ExecuteTime": {
     "end_time": "2022-07-24T21:02:31.033078Z",
     "start_time": "2022-07-24T21:02:30.985953Z"
    }
   },
   "outputs": [],
   "source": [
    "# Poids pour chacun des rebalancement\n",
    "dic_weight = {\n",
    "    pf: pd.read_csv(PROC_DATA / f\"carbon_weight_{pf}.csv\").rename(columns={'Unnamed: 0':\"quarter\"}).set_index(\"quarter\")\n",
    "    for pf in dic_carbon.keys()\n",
    "}"
   ]
  },
  {
   "cell_type": "code",
   "execution_count": 9,
   "id": "3c6c3070",
   "metadata": {
    "ExecuteTime": {
     "end_time": "2022-07-24T20:39:18.456077Z",
     "start_time": "2022-07-24T20:39:18.440450Z"
    }
   },
   "outputs": [],
   "source": [
    "rf = 0.05"
   ]
  },
  {
   "cell_type": "code",
   "execution_count": 19,
   "id": "18b6b7ff",
   "metadata": {
    "ExecuteTime": {
     "end_time": "2022-07-24T21:03:07.383997Z",
     "start_time": "2022-07-24T21:03:06.799195Z"
    }
   },
   "outputs": [
    {
     "name": "stdout",
     "output_type": "stream",
     "text": [
      "ew\n",
      "1.5161281619472566\n",
      "gmv\n",
      "0.9746394930061407\n",
      "maxdecor\n",
      "1.066773835115422\n",
      "maxdiv\n",
      "1.1391028411212754\n",
      "msr\n",
      "0.9136819064496169\n"
     ]
    }
   ],
   "source": [
    "for pf in dic_carbon.keys():\n",
    "        \n",
    "    # Rendement annualisé\n",
    "    dic_carbon[pf][\"ret\"] = return_df[pf].mean() * 52\n",
    "\n",
    "    # Volatilité sur les 18 ans\n",
    "    dic_carbon[pf][\"vol\"] = return_df[pf].std() * np.sqrt(52)\n",
    "    \n",
    "    # Ratio de sharp\n",
    "    dic_carbon[pf][\"sr\"] = (dic_carbon[pf][\"ret\"] - rf) / dic_carbon[pf][\"vol\"]\n",
    "    \n",
    "     # Tracking error\n",
    "    dic_carbon[pf][\"track_err\"] = []\n",
    "    for i in range(len(return_df)//12): # par paquet de 3 mois\n",
    "        dic_carbon[pf][\"track_err\"].append((return_df[pf].iloc[i*12:(i+1)*12] - return_sp[\"mu\"].iloc[i*12:(i+1)*12]).std())\n",
    "    \n",
    "    # Tracking global error\n",
    "    dic_carbon[pf][\"yearly_track_err\"] = []\n",
    "    for i in range(len(return_df)//(12*4)): # par paquet de 1 an\n",
    "        dic_carbon[pf][\"yearly_track_err\"].append((return_df[pf].iloc[i*12*4:(i+1)*12*4] - return_sp[\"mu\"].iloc[i*12*4:(i+1)*12*4]).std())\n",
    "    \n",
    "    # Excess return \n",
    "    dic_carbon[pf][\"ex_ret\"] = []\n",
    "    for i in range(len(return_df)//12): # par paquet de 3 mois\n",
    "        dic_carbon[pf][\"ex_ret\"].append( \n",
    "            (return_df[pf].iloc[i*12:(i+1)*12].mean()) - (return_sp[\"mu\"].iloc[i*12:(i+1)*12].mean())\n",
    "        )\n",
    "        \n",
    "    # Yearly Excess return \n",
    "    dic_carbon[pf][\"yearly_ex_ret\"] = []\n",
    "    for i in range(len(return_df)//(12*4)): # par paquet de 1 an\n",
    "        dic_carbon[pf][\"yearly_ex_ret\"].append( \n",
    "            (return_df[pf].iloc[i*12*4:(i+1)*12*4].mean()) - (return_sp[\"mu\"].iloc[i*12*4:(i+1)*12*4].mean())\n",
    "        )\n",
    "\n",
    "    # Calcul de l'ENC\n",
    "    dic_carbon[pf][\"enc\"] = dic_weight[pf].apply(compute_enc, axis=1)\n",
    "    \n",
    "    # Information ratio\n",
    "    dic_carbon[pf][\"ir\"] = compute_ir(dic_carbon[pf][\"ex_ret\"], dic_carbon[pf][\"track_err\"])\n",
    "        \n",
    "    # Yearly Information ratio\n",
    "    dic_carbon[pf][\"yearly_ir\"] = compute_ir(dic_carbon[pf][\"yearly_ex_ret\"],\n",
    "                                             dic_carbon[pf][\"yearly_track_err\"])\n",
    "    \n",
    "    # Diversification index # récupérer les poids\n",
    "    sum_di = 0\n",
    "    for i in range(len(return_df)//12):\n",
    "          sum_di += compute_di(\n",
    "            weight=dic_weight[pf].iloc[i],\n",
    "            stock=stock_ret.iloc[i*12:(i+1)*12],\n",
    "            vol_p=return_df[pf].iloc[i*12:(i+1)*12].std())\n",
    "            \n",
    "    print(pf)\n",
    "    print(sum_di)\n",
    "    dic_carbon[pf][\"di\"] = sum_di / (len(return_df)//12)\n",
    "    \n",
    "         "
   ]
  },
  {
   "cell_type": "code",
   "execution_count": 21,
   "id": "34735668",
   "metadata": {
    "ExecuteTime": {
     "end_time": "2022-07-24T21:03:50.127946Z",
     "start_time": "2022-07-24T21:03:50.112317Z"
    }
   },
   "outputs": [],
   "source": [
    "%store -r dic"
   ]
  },
  {
   "cell_type": "code",
   "execution_count": 23,
   "id": "9e3768b9",
   "metadata": {
    "ExecuteTime": {
     "end_time": "2022-07-24T21:04:16.862490Z",
     "start_time": "2022-07-24T21:04:16.846938Z"
    }
   },
   "outputs": [
    {
     "name": "stdout",
     "output_type": "stream",
     "text": [
      "ew\n",
      "0.01943754053778534\n",
      "gmv\n",
      "0.012468293928954731\n",
      "maxdecor\n",
      "0.016692042727331546\n",
      "maxdiv\n",
      "0.014665411393456224\n",
      "msr\n",
      "0.013360477288418795\n"
     ]
    }
   ],
   "source": [
    "for pf in dic.keys():\n",
    "    print(pf)\n",
    "    print(dic[pf][\"di\"])"
   ]
  },
  {
   "cell_type": "markdown",
   "id": "2f27e258",
   "metadata": {},
   "source": [
    "# Analyse"
   ]
  }
 ],
 "metadata": {
  "kernelspec": {
   "display_name": "Python 3",
   "language": "python",
   "name": "python3"
  },
  "language_info": {
   "codemirror_mode": {
    "name": "ipython",
    "version": 3
   },
   "file_extension": ".py",
   "mimetype": "text/x-python",
   "name": "python",
   "nbconvert_exporter": "python",
   "pygments_lexer": "ipython3",
   "version": "3.8.8"
  },
  "toc": {
   "base_numbering": 1,
   "nav_menu": {},
   "number_sections": true,
   "sideBar": true,
   "skip_h1_title": false,
   "title_cell": "Table of Contents",
   "title_sidebar": "Contents",
   "toc_cell": false,
   "toc_position": {},
   "toc_section_display": true,
   "toc_window_display": false
  }
 },
 "nbformat": 4,
 "nbformat_minor": 5
}
