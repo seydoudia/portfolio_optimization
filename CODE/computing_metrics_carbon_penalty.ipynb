{
 "cells": [
  {
   "cell_type": "markdown",
   "metadata": {},
   "source": [
    "# Description\n",
    "* Author: Seydou DIA & Simona MILADINOVA\n",
    "\n",
    "\n",
    "\n",
    "Notebook to compute metrics with carbon footprint penalties\n",
    "\n",
    "# Setup"
   ]
  },
  {
   "cell_type": "code",
   "execution_count": null,
   "metadata": {
    "ExecuteTime": {
     "end_time": "2022-09-10T16:53:53.636340Z",
     "start_time": "2022-09-10T16:53:48.106987Z"
    }
   },
   "outputs": [],
   "source": [
    "%store -r dic"
   ]
  },
  {
   "cell_type": "code",
   "execution_count": null,
   "metadata": {
    "ExecuteTime": {
     "end_time": "2022-09-10T16:53:56.349546Z",
     "start_time": "2022-09-10T16:53:54.316947Z"
    }
   },
   "outputs": [],
   "source": [
    "%matplotlib notebook\n",
    "%load_ext autoreload"
   ]
  },
  {
   "cell_type": "markdown",
   "metadata": {
    "ExecuteTime": {
     "end_time": "2022-07-24T16:31:54.878143Z",
     "start_time": "2022-07-24T16:31:54.847509Z"
    }
   },
   "source": [
    "## Imports"
   ]
  },
  {
   "cell_type": "code",
   "execution_count": null,
   "metadata": {
    "ExecuteTime": {
     "end_time": "2022-09-10T16:53:56.421609Z",
     "start_time": "2022-09-10T16:53:56.349546Z"
    }
   },
   "outputs": [],
   "source": [
    "# os related\n",
    "from pathlib import Path\n",
    "import os \n",
    "\n",
    "# data related\n",
    "import pandas as pd\n",
    "# import missingno as msno\n",
    "import datetime as dt\n",
    "import numpy as np\n",
    "import json\n",
    "\n",
    "\n",
    "# visual related\n",
    "import matplotlib.pyplot as plt\n",
    "# time related\n",
    "\n",
    "from fonctions import *"
   ]
  },
  {
   "cell_type": "code",
   "execution_count": null,
   "metadata": {
    "ExecuteTime": {
     "end_time": "2022-09-10T16:53:56.469611Z",
     "start_time": "2022-09-10T16:53:56.429607Z"
    }
   },
   "outputs": [],
   "source": [
    "import plotly.graph_objects as go"
   ]
  },
  {
   "cell_type": "markdown",
   "metadata": {},
   "source": [
    "## Paths"
   ]
  },
  {
   "cell_type": "code",
   "execution_count": null,
   "metadata": {
    "ExecuteTime": {
     "end_time": "2022-09-10T16:53:57.656882Z",
     "start_time": "2022-09-10T16:53:57.625821Z"
    }
   },
   "outputs": [],
   "source": [
    "\n",
    "# MUST BE IN CODE FOLDER TO WORK !\n",
    "PROJECT_PATH = Path(os.getcwd()).parent\n",
    "\n",
    "RAW_DATA = PROJECT_PATH / \"RAW_DATA\" \n",
    "PROC_DATA = PROJECT_PATH / \"PROC_DATA\"\n",
    "\n",
    "# RAW FILES\n",
    "CSV_FILE = RAW_DATA / \"Individual_stock_data_csv.csv\"\n",
    "XLSX_FILE = RAW_DATA / \"Individual_stock_data.xlsx\"\n",
    "\n",
    "# PROC FILES\n",
    "PROC_STOCK = PROC_DATA / \"proc_stock.csv\"\n",
    "PROC_CARBON = PROC_DATA / \"proc_carbon.csv\"\n",
    "\n",
    "STOCK_2000 = PROC_DATA / \"stock_2000.csv\"\n",
    "\n",
    "STOCK_WORK = PROC_DATA / \"stock_work.csv\"\n",
    "STOCK2USE = PROC_DATA / \"stock2use.csv\"\n",
    "DIC2USE = PROC_DATA / \"dic2use.json\"\n",
    "\n",
    "\n",
    "OUT_RENDEMENT = PROC_DATA / \"rendement_v1.csv\"\n",
    "\n",
    "OUT_DF_CSV = PROC_DATA / \"optimize_assets.csv\"\n",
    "OUT_DF_CSV_CARBON = PROC_DATA / \"optimize_assets_carbon_penalty.csv\"\n",
    "\n",
    "\n",
    "# OUT_DIC_WEIGHT = PROC_DATA / \"dic_weight.pickle\"\n",
    "\n",
    "\n",
    "DIC_METRICS_CARBON_JSON = PROC_DATA / \"dic_metrics_carbon.json\""
   ]
  },
  {
   "cell_type": "markdown",
   "metadata": {},
   "source": [
    "## Utils"
   ]
  },
  {
   "cell_type": "code",
   "execution_count": null,
   "metadata": {
    "ExecuteTime": {
     "end_time": "2022-09-10T16:53:59.348484Z",
     "start_time": "2022-09-10T16:53:59.324468Z"
    }
   },
   "outputs": [],
   "source": [
    "def compute_enc(weights):\n",
    "    \"\"\"Function that computes the ENC for given weights an a given window\"\"\"\n",
    "    return 1 / sum([w**2 for w in weights])\n",
    "    \n",
    "\n",
    "def compute_ir(excess_return, track_err):\n",
    "    \"\"\"Function that computes the information ratio given \n",
    "    the excess return and the track_err\"\"\"\n",
    "    return [ex_ret / track_err for (ex_ret, track_err) in zip(excess_return, track_err)]\n",
    "\n",
    "def compute_di(weight, stock, vol_p):\n",
    "    \"\"\"Function that computes the diversification index\"\"\"\n",
    "    stock_vol = stock.std() * np.sqrt(12)\n",
    "    return np.dot(stock_vol, weight) / (vol_p * np.sqrt(12))"
   ]
  },
  {
   "cell_type": "markdown",
   "metadata": {},
   "source": [
    "# Notebook\n"
   ]
  },
  {
   "cell_type": "code",
   "execution_count": null,
   "metadata": {
    "ExecuteTime": {
     "end_time": "2022-09-10T16:54:01.293972Z",
     "start_time": "2022-09-10T16:54:00.413443Z"
    }
   },
   "outputs": [],
   "source": [
    "stock_df = read_file(STOCK2USE).iloc[104:-4]\n",
    "\n",
    "return_df = pd.read_csv(OUT_DF_CSV_CARBON)\n",
    "return_df.index = read_file(STOCK2USE).index[104:-4]\n",
    "return_df.drop(columns=\"Unnamed: 0\", inplace=True)\n",
    "\n",
    "stock_ret = stock_df.pct_change()\n",
    "\n",
    "sp500 = read_file(STOCK_WORK)\n",
    "bm_return = equally_weighted(sp500) \n",
    "\n",
    "return_sp = pd.DataFrame((sp500.mean(axis=1).pct_change())*100, columns=[\"mu\"])\n",
    "return_sp = return_sp.loc[return_df.index[0]:return_df.index[-1]]"
   ]
  },
  {
   "cell_type": "code",
   "execution_count": null,
   "metadata": {
    "ExecuteTime": {
     "end_time": "2022-09-10T16:54:01.433711Z",
     "start_time": "2022-09-10T16:54:01.421690Z"
    }
   },
   "outputs": [],
   "source": [
    "\n",
    "metrics = [\"ret\", \"vol\", \"sr\", \n",
    "           \"track_err\", \"yearly_track_error\",\n",
    "           \"ex_ret\", \"enc\", \"encb\", \n",
    "           \"ir\", \"di\"]\n"
   ]
  },
  {
   "cell_type": "code",
   "execution_count": null,
   "metadata": {
    "ExecuteTime": {
     "end_time": "2022-09-10T16:54:01.957085Z",
     "start_time": "2022-09-10T16:54:01.949093Z"
    }
   },
   "outputs": [],
   "source": [
    "dic_carbon = dict.fromkeys(return_df.columns)\n",
    "for k in dic_carbon.keys():\n",
    "    dic_carbon[k] = dict.fromkeys(metrics)\n"
   ]
  },
  {
   "cell_type": "code",
   "execution_count": null,
   "metadata": {
    "ExecuteTime": {
     "end_time": "2022-09-10T16:54:03.058738Z",
     "start_time": "2022-09-10T16:54:02.825319Z"
    }
   },
   "outputs": [],
   "source": [
    "# Poids pour chacun des rebalancement\n",
    "dic_weight = {\n",
    "    pf: pd.read_csv(PROC_DATA / f\"carbon_weight_{pf}.csv\").rename(columns={'Unnamed: 0':\"quarter\"}).set_index(\"quarter\")\n",
    "    for pf in dic_carbon.keys()\n",
    "}"
   ]
  },
  {
   "cell_type": "code",
   "execution_count": null,
   "metadata": {
    "ExecuteTime": {
     "end_time": "2022-09-10T16:54:03.338867Z",
     "start_time": "2022-09-10T16:54:03.323047Z"
    }
   },
   "outputs": [],
   "source": [
    "rf = 0.05"
   ]
  },
  {
   "cell_type": "code",
   "execution_count": null,
   "metadata": {
    "ExecuteTime": {
     "end_time": "2022-09-10T21:48:56.366174Z",
     "start_time": "2022-09-10T21:48:54.936063Z"
    }
   },
   "outputs": [],
   "source": [
    "for pf in dic_carbon.keys():\n",
    "        \n",
    "    # Rendement annualisé\n",
    "    dic_carbon[pf][\"ret\"] = return_df[pf].mean() * 52\n",
    "\n",
    "    # Volatilité sur les 18 ans\n",
    "    dic_carbon[pf][\"vol\"] = return_df[pf].std() * np.sqrt(52)\n",
    "    \n",
    "    # Ratio de sharp\n",
    "    dic_carbon[pf][\"sr\"] = (dic_carbon[pf][\"ret\"] - rf) / dic_carbon[pf][\"vol\"]\n",
    "    \n",
    "     # Tracking error\n",
    "    dic_carbon[pf][\"track_err\"] = []\n",
    "    for i in range(len(return_df)//12): # par paquet de 3 mois\n",
    "        dic_carbon[pf][\"track_err\"].append((return_df[pf].iloc[i*12:(i+1)*12] - return_sp[\"mu\"].iloc[i*12:(i+1)*12]).std() * np.sqrt(52))\n",
    "    \n",
    "    # Tracking global error\n",
    "    dic_carbon[pf][\"yearly_track_err\"] = []\n",
    "    for i in range(len(return_df)//(12*4)): # par paquet de 1 an\n",
    "        dic_carbon[pf][\"yearly_track_err\"].append((return_df[pf].iloc[i*12*4:(i+1)*12*4] - return_sp[\"mu\"].iloc[i*12*4:(i+1)*12*4]).std() * np.sqrt(52))\n",
    "    \n",
    "    # Excess return \n",
    "    dic_carbon[pf][\"ex_ret\"] = []\n",
    "    for i in range(len(return_df)//12): # par paquet de 3 mois\n",
    "        dic_carbon[pf][\"ex_ret\"].append( \n",
    "            52 * (return_df[pf].iloc[i*12:(i+1)*12].mean()) - 52 * (return_sp[\"mu\"].iloc[i*12:(i+1)*12].mean())\n",
    "        )\n",
    "        \n",
    "    # Yearly Excess return \n",
    "    dic_carbon[pf][\"yearly_ex_ret\"] = []\n",
    "    for i in range(len(return_df)//(12*4)): # par paquet de 1 an\n",
    "        dic_carbon[pf][\"yearly_ex_ret\"].append( \n",
    "            52 * (return_df[pf].iloc[i*12*4:(i+1)*12*4].mean()) - 52 * (return_sp[\"mu\"].iloc[i*12*4:(i+1)*12*4].mean())\n",
    "        )\n",
    "\n",
    "    # Calcul de l'ENC\n",
    "    dic_carbon[pf][\"enc\"] = dic_weight[pf].apply(compute_enc, axis=1)\n",
    "    \n",
    "    # Information ratio\n",
    "    dic_carbon[pf][\"ir\"] = compute_ir(dic_carbon[pf][\"ex_ret\"], dic_carbon[pf][\"track_err\"])\n",
    "        \n",
    "    # Yearly Information ratio\n",
    "    dic_carbon[pf][\"yearly_ir\"] = compute_ir(dic_carbon[pf][\"yearly_ex_ret\"],\n",
    "                                             dic_carbon[pf][\"yearly_track_err\"])\n",
    "    \n",
    "    # Diversification index # récupérer les poids\n",
    "    sum_di = 0\n",
    "    for i in range(len(return_df)//12):\n",
    "          sum_di += compute_di(\n",
    "            weight=dic_weight[pf].iloc[i],\n",
    "            stock=stock_ret.iloc[i*12:(i+1)*12],\n",
    "            vol_p=return_df[pf].iloc[i*12:(i+1)*12].std())\n",
    "            \n",
    "    print(pf)\n",
    "    print(sum_di)\n",
    "    dic_carbon[pf][\"di\"] = sum_di / (len(return_df)//12)\n",
    "    \n",
    "         "
   ]
  },
  {
   "cell_type": "code",
   "execution_count": null,
   "metadata": {
    "ExecuteTime": {
     "end_time": "2022-09-10T21:49:00.365194Z",
     "start_time": "2022-09-10T21:48:59.910503Z"
    }
   },
   "outputs": [],
   "source": [
    "%store -r dic"
   ]
  },
  {
   "cell_type": "code",
   "execution_count": null,
   "metadata": {
    "ExecuteTime": {
     "end_time": "2022-09-10T21:49:00.852821Z",
     "start_time": "2022-09-10T21:49:00.821212Z"
    },
    "scrolled": true
   },
   "outputs": [],
   "source": [
    "for pf in dic_carbon.keys():\n",
    "    print(pf)\n",
    "    print(dic_carbon[pf][\"di\"])"
   ]
  },
  {
   "cell_type": "markdown",
   "metadata": {},
   "source": [
    "# Analyse"
   ]
  },
  {
   "cell_type": "code",
   "execution_count": null,
   "metadata": {
    "ExecuteTime": {
     "end_time": "2022-09-10T21:49:03.743906Z",
     "start_time": "2022-09-10T21:49:03.493428Z"
    }
   },
   "outputs": [],
   "source": [
    "plt.figure()\n",
    "plt.bar(dic_carbon.keys(),\n",
    "    [dic_carbon[k][\"ret\"] for k in dic_carbon.keys()],\n",
    "       align=\"center\",\n",
    "        width=0.4\n",
    "   )\n",
    "\n",
    "plt.title(\"Rendement par portefeuille\", fontsize=15)\n",
    "plt.ylabel(\"%\", fontsize=15)\n",
    "plt.ylim(0,22)\n",
    "\n",
    "plt.xticks(fontsize=12)\n",
    "plt.yticks(fontsize=10)"
   ]
  },
  {
   "cell_type": "code",
   "execution_count": null,
   "metadata": {
    "ExecuteTime": {
     "end_time": "2022-09-10T21:25:36.382261Z",
     "start_time": "2022-09-10T21:25:35.329955Z"
    }
   },
   "outputs": [],
   "source": [
    "fig, axs = plt.subplots(1, len(dic_carbon.keys())+1, sharex=True, \n",
    "                        sharey=True,\n",
    "                        figsize=(9, 6),\n",
    "                        gridspec_kw={\"width_ratios\": [3, 3, 3, 3, 3, 1]})\n",
    "\n",
    "dic_carbon_color = {'increasing':'green', 'decreasing':'red', 'no trend':'blue'}\n",
    "\n",
    "\n",
    "labels = list(dic_carbon.keys())\n",
    "\n",
    "for i, col in enumerate(return_df.columns):\n",
    "    axs[i].hist(return_df[col], bins=50, density=True)\n",
    "    axs[i].set_xlabel(\"%\")\n",
    "    axs[i].set_title(col, fontsize=11, pad=0.5)\n",
    "    axs[i].grid(True)\n",
    "    \n",
    "\n",
    "    \n",
    "lax = axs[-1]\n",
    "lax.axis('off')\n",
    "# lines = [Line2D([0], [0], color=c, linewidth=3, linestyle='-') for c in dic_carbon_color.values()]\n",
    "#lax.legend(lines, labels, loc=10, fontsize=9)\n",
    "\n",
    "# ----------------\n",
    "\n",
    "fig.suptitle(\"Distribution des rendements hebdomadaires (%)\")\n",
    "#fig.suptitle(\"From {} to {})\".format(start, end))\n",
    "#fig.tight_layout(rect=[0,0,1,0.98])"
   ]
  },
  {
   "cell_type": "code",
   "execution_count": null,
   "metadata": {
    "ExecuteTime": {
     "end_time": "2022-09-10T21:25:37.406357Z",
     "start_time": "2022-09-10T21:25:36.397903Z"
    }
   },
   "outputs": [],
   "source": [
    "yr_idx = [str(i) for i in range(len(dic_carbon[\"ew\"][\"enc\"]))]\n",
    "\n",
    "enc_df = pd.DataFrame(index=yr_idx)\n",
    "\n",
    "for k in list(dic_carbon.keys())[1:]:\n",
    "    enc_df[k] = dic_carbon[k][\"enc\"].values\n",
    "    \n",
    "    \n",
    "\n",
    "enc_df.plot()    \n",
    "plt.title(\"Evolution Trimestirelle de l'ENC\")\n",
    "plt.xlabel(\"Trismestre\")"
   ]
  },
  {
   "cell_type": "code",
   "execution_count": null,
   "metadata": {
    "ExecuteTime": {
     "end_time": "2022-09-10T22:00:10.100799Z",
     "start_time": "2022-09-10T22:00:10.073103Z"
    }
   },
   "outputs": [],
   "source": [
    "kpi_list = [\"ret\", \"enc\", \"vol\", \"ex_ret\", \"track_err\", \"yearly_ir\", \"sr\"]\n"
   ]
  },
  {
   "cell_type": "code",
   "execution_count": null,
   "metadata": {
    "ExecuteTime": {
     "end_time": "2022-09-10T22:00:12.840622Z",
     "start_time": "2022-09-10T22:00:12.778086Z"
    }
   },
   "outputs": [],
   "source": [
    "compare_df = pd.DataFrame(index=kpi_list, columns=[\"carbon\", \"no_carbon\"])\n",
    "\n",
    "\n",
    "dic_compare = {}\n",
    "for k in dic.keys():\n",
    "    for kpi in kpi_list:\n",
    "        compare_df[\"no_carbon\"].loc[kpi] = float(np.mean(dic[k][kpi]))\n",
    "        compare_df[\"carbon\"].loc[kpi] = float(np.mean(dic_carbon[k][kpi]))\n",
    "    dic_compare[k] = compare_df.astype(\"float\")"
   ]
  },
  {
   "cell_type": "code",
   "execution_count": null,
   "metadata": {
    "ExecuteTime": {
     "end_time": "2022-09-10T22:00:13.345142Z",
     "start_time": "2022-09-10T22:00:13.193269Z"
    }
   },
   "outputs": [],
   "source": [
    "dic_compare[\"maxdiv\"].style.background_gradient(cmap=\"Blues\", axis=0)"
   ]
  },
  {
   "cell_type": "code",
   "execution_count": null,
   "metadata": {
    "ExecuteTime": {
     "end_time": "2022-09-10T22:00:15.026368Z",
     "start_time": "2022-09-10T22:00:14.963571Z"
    }
   },
   "outputs": [],
   "source": [
    "compare_df = pd.DataFrame(index=[\"carbon_penalty\", \"no_carbon_penalty\"], columns=kpi_list)\n",
    "\n",
    "\n",
    "dic_compare = {}\n",
    "for k in dic.keys():\n",
    "    for kpi in kpi_list:\n",
    "        compare_df[kpi].loc[\"no_carbon_penalty\"] = float(np.mean(dic[k][kpi]))\n",
    "        compare_df[kpi].loc[\"carbon_penalty\"] = float(np.mean(dic_carbon[k][kpi]))\n",
    "    dic_compare[k] = compare_df.astype(\"float\")\n",
    "    "
   ]
  },
  {
   "cell_type": "code",
   "execution_count": null,
   "metadata": {
    "ExecuteTime": {
     "end_time": "2022-09-10T22:00:16.111195Z",
     "start_time": "2022-09-10T22:00:16.063829Z"
    }
   },
   "outputs": [],
   "source": [
    "dic_compare[\"gmv\"].style.background_gradient(cmap=\"Blues\", axis=0)\n"
   ]
  },
  {
   "cell_type": "code",
   "execution_count": null,
   "metadata": {
    "ExecuteTime": {
     "end_time": "2022-09-10T22:00:24.787305Z",
     "start_time": "2022-09-10T22:00:24.622112Z"
    }
   },
   "outputs": [],
   "source": [
    "dic_compare[\"maxdecor\"].style.background_gradient(cmap=\"Blues\", axis=0)\n"
   ]
  },
  {
   "cell_type": "code",
   "execution_count": null,
   "metadata": {
    "ExecuteTime": {
     "end_time": "2022-09-10T22:00:25.605419Z",
     "start_time": "2022-09-10T22:00:25.542564Z"
    },
    "scrolled": true
   },
   "outputs": [],
   "source": [
    "dic_compare[\"maxdiv\"].style.background_gradient(cmap=\"Blues\", axis=0)"
   ]
  },
  {
   "cell_type": "code",
   "execution_count": null,
   "metadata": {
    "ExecuteTime": {
     "end_time": "2022-09-10T22:00:26.030294Z",
     "start_time": "2022-09-10T22:00:25.983009Z"
    },
    "scrolled": true
   },
   "outputs": [],
   "source": [
    "dic_compare[\"msr\"].style.background_gradient(cmap=\"Blues\", axis=0)"
   ]
  }
 ],
 "metadata": {
  "hide_input": false,
  "kernelspec": {
   "display_name": "Python 3",
   "language": "python",
   "name": "python3"
  },
  "language_info": {
   "codemirror_mode": {
    "name": "ipython",
    "version": 3
   },
   "file_extension": ".py",
   "mimetype": "text/x-python",
   "name": "python",
   "nbconvert_exporter": "python",
   "pygments_lexer": "ipython3",
   "version": "3.7.6"
  },
  "toc": {
   "base_numbering": 1,
   "nav_menu": {},
   "number_sections": true,
   "sideBar": true,
   "skip_h1_title": false,
   "title_cell": "Table of Contents",
   "title_sidebar": "Contents",
   "toc_cell": false,
   "toc_position": {
    "height": "calc(100% - 180px)",
    "left": "10px",
    "top": "150px",
    "width": "165px"
   },
   "toc_section_display": true,
   "toc_window_display": true
  }
 },
 "nbformat": 4,
 "nbformat_minor": 5
}
