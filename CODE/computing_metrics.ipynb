{
 "cells": [
  {
   "cell_type": "markdown",
   "metadata": {},
   "source": [
    "# Description"
   ]
  },
  {
   "cell_type": "markdown",
   "metadata": {},
   "source": [
    "Notebook to compute metrics."
   ]
  },
  {
   "cell_type": "markdown",
   "metadata": {},
   "source": [
    "# Setup"
   ]
  },
  {
   "cell_type": "code",
   "execution_count": 1,
   "metadata": {
    "ExecuteTime": {
     "end_time": "2022-03-15T11:54:31.934303Z",
     "start_time": "2022-03-15T11:54:30.901153Z"
    }
   },
   "outputs": [],
   "source": [
    "%matplotlib notebook\n",
    "%load_ext autoreload"
   ]
  },
  {
   "cell_type": "markdown",
   "metadata": {},
   "source": [
    "## Imports"
   ]
  },
  {
   "cell_type": "code",
   "execution_count": 2,
   "metadata": {
    "ExecuteTime": {
     "end_time": "2022-03-15T11:54:34.164803Z",
     "start_time": "2022-03-15T11:54:31.934303Z"
    }
   },
   "outputs": [],
   "source": [
    "# os related\n",
    "from pathlib import Path\n",
    "import os \n",
    "\n",
    "# data related\n",
    "import pandas as pd\n",
    "import missingno as msno\n",
    "import datetime as dt\n",
    "import numpy as np\n",
    "\n",
    "\n",
    "# visual related\n",
    "import matplotlib.pyplot as plt\n",
    "# time related"
   ]
  },
  {
   "cell_type": "code",
   "execution_count": 3,
   "metadata": {
    "ExecuteTime": {
     "end_time": "2022-03-15T11:54:34.203605Z",
     "start_time": "2022-03-15T11:54:34.164803Z"
    }
   },
   "outputs": [],
   "source": [
    "\n",
    "from fonctions import *\n"
   ]
  },
  {
   "cell_type": "markdown",
   "metadata": {},
   "source": [
    "## Paths"
   ]
  },
  {
   "cell_type": "code",
   "execution_count": 4,
   "metadata": {
    "ExecuteTime": {
     "end_time": "2022-03-15T11:54:34.242499Z",
     "start_time": "2022-03-15T11:54:34.210140Z"
    }
   },
   "outputs": [],
   "source": [
    "# MUST BE IN CODE FOLDER TO WORK !\n",
    "PROJECT_PATH = Path(os.getcwd()).parent\n",
    "\n",
    "RAW_DATA = PROJECT_PATH / \"RAW_DATA\" \n",
    "PROC_DATA = PROJECT_PATH / \"PROC_DATA\"\n",
    "\n",
    "# RAW FILES\n",
    "CSV_FILE = RAW_DATA / \"Individual_stock_data_csv.csv\"\n",
    "XLSX_FILE = RAW_DATA / \"Individual_stock_data.xlsx\"\n",
    "\n",
    "# PROC FILES\n",
    "PROC_STOCK = PROC_DATA / \"proc_stock.csv\"\n",
    "PROC_CARBON = PROC_DATA / \"proc_carbon.csv\"\n",
    "\n",
    "STOCK_2000 = PROC_DATA / \"stock_2000.csv\"\n",
    "\n",
    "STOCK_WORK = PROC_DATA / \"stock_work.csv\"\n",
    "STOCK2USE = PROC_DATA / \"stock2use.csv\"\n",
    "DIC2USE = PROC_DATA / \"dic2use.json\"\n",
    "\n",
    "\n",
    "OUT_RENDEMENT = PROC_DATA / \"rendement_v1.csv\""
   ]
  },
  {
   "cell_type": "markdown",
   "metadata": {},
   "source": [
    "## Utils"
   ]
  },
  {
   "cell_type": "code",
   "execution_count": 6,
   "metadata": {
    "ExecuteTime": {
     "end_time": "2022-03-15T11:53:31.412955Z",
     "start_time": "2022-03-15T11:53:31.396946Z"
    }
   },
   "outputs": [],
   "source": [
    "\n",
    "from fonctions import *"
   ]
  },
  {
   "cell_type": "markdown",
   "metadata": {},
   "source": [
    "# Notebook"
   ]
  },
  {
   "cell_type": "code",
   "execution_count": 5,
   "metadata": {
    "ExecuteTime": {
     "end_time": "2022-03-15T11:54:36.887969Z",
     "start_time": "2022-03-15T11:54:36.800485Z"
    }
   },
   "outputs": [],
   "source": [
    "return_df = pd.read_csv(OUT_RENDEMENT)\n",
    "return_df.index = read_file(STOCK2USE).index[104:]\n",
    "return_df.drop(columns=\"Unnamed: 0\", inplace=True)"
   ]
  },
  {
   "cell_type": "code",
   "execution_count": 6,
   "metadata": {
    "ExecuteTime": {
     "end_time": "2022-03-15T11:54:37.764884Z",
     "start_time": "2022-03-15T11:54:37.388790Z"
    }
   },
   "outputs": [],
   "source": [
    "\n",
    "sp500 = read_file(STOCK_WORK)\n",
    "bm_return = equally_weighted(sp500)\n"
   ]
  },
  {
   "cell_type": "code",
   "execution_count": 27,
   "metadata": {
    "ExecuteTime": {
     "end_time": "2022-03-15T11:44:28.870851Z",
     "start_time": "2022-03-15T11:44:28.847260Z"
    }
   },
   "outputs": [],
   "source": [
    "return_sp = (sp500.mean(axis=1).pct_change())*100"
   ]
  },
  {
   "cell_type": "code",
   "execution_count": 24,
   "metadata": {
    "ExecuteTime": {
     "end_time": "2022-03-15T11:41:51.974183Z",
     "start_time": "2022-03-15T11:41:51.918151Z"
    }
   },
   "outputs": [
    {
     "data": {
      "text/plain": [
       "timestamp\n",
       "1999-12-14         NaN\n",
       "1999-12-21    1.621024\n",
       "1999-12-28    2.917997\n",
       "2000-01-04   -2.224484\n",
       "2000-01-11    4.114965\n",
       "                ...   \n",
       "2019-11-12    0.216510\n",
       "2019-11-19    0.577101\n",
       "2019-11-26    0.851971\n",
       "2019-12-03   -1.712872\n",
       "2019-12-10    1.596631\n",
       "Length: 1044, dtype: float64"
      ]
     },
     "execution_count": 24,
     "metadata": {},
     "output_type": "execute_result"
    }
   ],
   "source": [
    "(sp500.pct_change()).mean(axis=1)*100"
   ]
  },
  {
   "cell_type": "code",
   "execution_count": 9,
   "metadata": {
    "ExecuteTime": {
     "end_time": "2022-03-15T11:37:45.427169Z",
     "start_time": "2022-03-15T11:37:45.403450Z"
    }
   },
   "outputs": [],
   "source": [
    "metrics = [\"ret\", \"vol\", \"sr\", \"track_err\", \"ex_ret\", \"enc\", \"encb\", \"ir\", \"di\"]"
   ]
  },
  {
   "cell_type": "code",
   "execution_count": 12,
   "metadata": {
    "ExecuteTime": {
     "end_time": "2022-03-15T11:37:52.133218Z",
     "start_time": "2022-03-15T11:37:52.122048Z"
    }
   },
   "outputs": [],
   "source": [
    "rf = 0.5"
   ]
  },
  {
   "cell_type": "code",
   "execution_count": 13,
   "metadata": {
    "ExecuteTime": {
     "end_time": "2022-03-15T11:37:52.810718Z",
     "start_time": "2022-03-15T11:37:52.786317Z"
    }
   },
   "outputs": [],
   "source": [
    "dic = dict.fromkeys(return_df.columns)\n",
    "\n",
    "for k in dic.keys():\n",
    "    dic[k] = dict.fromkeys(metrics)"
   ]
  },
  {
   "cell_type": "code",
   "execution_count": 20,
   "metadata": {
    "ExecuteTime": {
     "end_time": "2022-03-15T11:40:25.727077Z",
     "start_time": "2022-03-15T11:40:25.703190Z"
    }
   },
   "outputs": [
    {
     "data": {
      "text/plain": [
       "timestamp\n",
       "1999-12-14         NaN\n",
       "1999-12-21    1.981972\n",
       "1999-12-28    2.785832\n",
       "2000-01-04   -3.240800\n",
       "2000-01-11    4.855155\n",
       "                ...   \n",
       "2019-11-12    0.003154\n",
       "2019-11-19    0.239794\n",
       "2019-11-26    0.641848\n",
       "2019-12-03   -2.530275\n",
       "2019-12-10    0.783231\n",
       "Length: 1044, dtype: float64"
      ]
     },
     "execution_count": 20,
     "metadata": {},
     "output_type": "execute_result"
    }
   ],
   "source": []
  },
  {
   "cell_type": "code",
   "execution_count": 48,
   "metadata": {
    "ExecuteTime": {
     "end_time": "2022-03-13T21:19:35.276531Z",
     "start_time": "2022-03-13T21:19:35.251605Z"
    }
   },
   "outputs": [],
   "source": [
    "for pf in dic.keys():\n",
    "        \n",
    "    # Rendement annualisé\n",
    "    dic[pf][\"ret\"] = return_df[pf].mean() * 52\n",
    "\n",
    "    # Volatilité sur les 18 ans\n",
    "    dic[pf][\"vol\"] = return_df[pf].std() * np.sqrt(52)\n",
    "    \n",
    "    # Ratio de sharp\n",
    "    dic[pf][\"sr\"] = (dic[pf][\"ret\"] - rf) / dic[pf][\"vol\"]\n",
    "    \n",
    "    # Tracking error\n",
    "    dic[pf][\"track_err\"] = \n",
    "    \n",
    "    # Excess return \n",
    "    dic[pf][\"ex_ret\"] = \n",
    "    \n",
    "    # Calcul de l'ENC\n",
    "    # dic[pf][\"enc\"]\n",
    "    \n",
    "    # Information ratio\n",
    "    # dic[pf][\"ir\"]\n",
    "    \n",
    "    # ENCB\n",
    "    # dic[pf][\"encb\"]\n",
    "    \n",
    "    # Diversification index\n",
    "    # dic[pf][\"di\"]"
   ]
  },
  {
   "cell_type": "code",
   "execution_count": null,
   "metadata": {},
   "outputs": [],
   "source": []
  },
  {
   "cell_type": "code",
   "execution_count": null,
   "metadata": {},
   "outputs": [],
   "source": []
  },
  {
   "cell_type": "code",
   "execution_count": null,
   "metadata": {},
   "outputs": [],
   "source": []
  }
 ],
 "metadata": {
  "hide_input": false,
  "kernelspec": {
   "display_name": "ml_work",
   "language": "python",
   "name": "ml_work"
  },
  "language_info": {
   "codemirror_mode": {
    "name": "ipython",
    "version": 3
   },
   "file_extension": ".py",
   "mimetype": "text/x-python",
   "name": "python",
   "nbconvert_exporter": "python",
   "pygments_lexer": "ipython3",
   "version": "3.6.10"
  },
  "toc": {
   "base_numbering": 1,
   "nav_menu": {},
   "number_sections": true,
   "sideBar": true,
   "skip_h1_title": false,
   "title_cell": "Table of Contents",
   "title_sidebar": "Contents",
   "toc_cell": false,
   "toc_position": {},
   "toc_section_display": true,
   "toc_window_display": false
  }
 },
 "nbformat": 4,
 "nbformat_minor": 5
}
