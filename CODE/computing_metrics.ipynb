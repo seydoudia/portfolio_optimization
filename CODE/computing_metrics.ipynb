{
 "cells": [
  {
   "cell_type": "markdown",
   "id": "99511c25",
   "metadata": {},
   "source": [
    "# Description"
   ]
  },
  {
   "cell_type": "markdown",
   "id": "a067ec4a",
   "metadata": {},
   "source": [
    "Notebook to compute metrics."
   ]
  },
  {
   "cell_type": "markdown",
   "id": "96d69922",
   "metadata": {},
   "source": [
    "# Setup"
   ]
  },
  {
   "cell_type": "code",
   "execution_count": 5,
   "id": "7b2da4c4",
   "metadata": {
    "ExecuteTime": {
     "end_time": "2022-06-21T19:57:59.735418Z",
     "start_time": "2022-06-21T19:57:59.719861Z"
    }
   },
   "outputs": [
    {
     "name": "stdout",
     "output_type": "stream",
     "text": [
      "The autoreload extension is already loaded. To reload it, use:\n",
      "  %reload_ext autoreload\n"
     ]
    }
   ],
   "source": [
    "%matplotlib notebook\n",
    "%load_ext autoreload"
   ]
  },
  {
   "cell_type": "markdown",
   "id": "9cad1908",
   "metadata": {},
   "source": [
    "## Imports"
   ]
  },
  {
   "cell_type": "code",
   "execution_count": 6,
   "id": "406afbab",
   "metadata": {
    "ExecuteTime": {
     "end_time": "2022-06-21T19:58:00.384058Z",
     "start_time": "2022-06-21T19:58:00.368432Z"
    }
   },
   "outputs": [],
   "source": [
    "# os related\n",
    "from pathlib import Path\n",
    "import os \n",
    "\n",
    "# data related\n",
    "import pandas as pd\n",
    "import missingno as msno\n",
    "import datetime as dt\n",
    "import numpy as np\n",
    "\n",
    "\n",
    "# visual related\n",
    "import matplotlib.pyplot as plt\n",
    "# time related"
   ]
  },
  {
   "cell_type": "code",
   "execution_count": 7,
   "id": "3769210e",
   "metadata": {
    "ExecuteTime": {
     "end_time": "2022-06-21T19:58:02.000978Z",
     "start_time": "2022-06-21T19:58:01.985350Z"
    }
   },
   "outputs": [],
   "source": [
    "\n",
    "from fonctions import *\n"
   ]
  },
  {
   "cell_type": "markdown",
   "id": "0166bf9f",
   "metadata": {},
   "source": [
    "## Paths"
   ]
  },
  {
   "cell_type": "code",
   "execution_count": 8,
   "id": "344370b8",
   "metadata": {
    "ExecuteTime": {
     "end_time": "2022-06-21T19:59:10.920716Z",
     "start_time": "2022-06-21T19:59:10.905091Z"
    }
   },
   "outputs": [],
   "source": [
    "# MUST BE IN CODE FOLDER TO WORK !\n",
    "PROJECT_PATH = Path(os.getcwd()).parent\n",
    "\n",
    "RAW_DATA = PROJECT_PATH / \"RAW_DATA\" \n",
    "PROC_DATA = PROJECT_PATH / \"PROC_DATA\"\n",
    "\n",
    "# RAW FILES\n",
    "CSV_FILE = RAW_DATA / \"Individual_stock_data_csv.csv\"\n",
    "XLSX_FILE = RAW_DATA / \"Individual_stock_data.xlsx\"\n",
    "\n",
    "# PROC FILES\n",
    "PROC_STOCK = PROC_DATA / \"proc_stock.csv\"\n",
    "PROC_CARBON = PROC_DATA / \"proc_carbon.csv\"\n",
    "\n",
    "STOCK_2000 = PROC_DATA / \"stock_2000.csv\"\n",
    "\n",
    "STOCK_WORK = PROC_DATA / \"stock_work.csv\"\n",
    "STOCK2USE = PROC_DATA / \"stock2use.csv\"\n",
    "DIC2USE = PROC_DATA / \"dic2use.json\"\n",
    "\n",
    "\n",
    "OUT_RENDEMENT = PROC_DATA / \"rendement_v1.csv\"\n",
    "\n",
    "OUT_DF_CSV = PROC_DATA / \"optimize_assets.csv\""
   ]
  },
  {
   "cell_type": "markdown",
   "id": "da22233d",
   "metadata": {},
   "source": [
    "## Utils"
   ]
  },
  {
   "cell_type": "code",
   "execution_count": 5,
   "id": "2b822a62",
   "metadata": {
    "ExecuteTime": {
     "end_time": "2022-03-16T19:09:49.206158Z",
     "start_time": "2022-03-16T19:09:49.190734Z"
    }
   },
   "outputs": [],
   "source": [
    "\n",
    "from fonctions import *"
   ]
  },
  {
   "cell_type": "markdown",
   "id": "d799c624",
   "metadata": {},
   "source": [
    "# Notebook"
   ]
  },
  {
   "cell_type": "code",
   "execution_count": 9,
   "id": "b2f678d7",
   "metadata": {
    "ExecuteTime": {
     "end_time": "2022-06-21T20:00:10.236421Z",
     "start_time": "2022-06-21T20:00:10.179352Z"
    }
   },
   "outputs": [],
   "source": [
    "return_df = pd.read_csv(OUT_DF_CSV)\n",
    "return_df.index = read_file(STOCK2USE).index[104:-4]\n",
    "return_df.drop(columns=\"Unnamed: 0\", inplace=True)"
   ]
  },
  {
   "cell_type": "code",
   "execution_count": 11,
   "id": "4389b2c2",
   "metadata": {
    "ExecuteTime": {
     "end_time": "2022-06-21T20:00:36.939764Z",
     "start_time": "2022-06-21T20:00:36.705365Z"
    }
   },
   "outputs": [],
   "source": [
    "\n",
    "sp500 = read_file(STOCK_WORK)\n",
    "bm_return = equally_weighted(sp500)\n"
   ]
  },
  {
   "cell_type": "code",
   "execution_count": 42,
   "id": "5b44bdc2",
   "metadata": {
    "ExecuteTime": {
     "end_time": "2022-06-21T20:27:01.484578Z",
     "start_time": "2022-06-21T20:27:01.468950Z"
    }
   },
   "outputs": [],
   "source": [
    "return_sp = pd.DataFrame((sp500.mean(axis=1).pct_change())*100, columns=[\"mu\"])\n",
    "return_sp = return_sp.loc[return_df.index[0]:return_df.index[-1]]"
   ]
  },
  {
   "cell_type": "code",
   "execution_count": 16,
   "id": "164f3078",
   "metadata": {
    "ExecuteTime": {
     "end_time": "2022-06-21T20:02:40.190507Z",
     "start_time": "2022-06-21T20:02:40.174879Z"
    }
   },
   "outputs": [
    {
     "data": {
      "text/plain": [
       "timestamp\n",
       "1999-12-14         NaN\n",
       "1999-12-21    1.621024\n",
       "1999-12-28    2.917997\n",
       "2000-01-04   -2.224484\n",
       "2000-01-11    4.114965\n",
       "                ...   \n",
       "2019-11-12    0.216510\n",
       "2019-11-19    0.577101\n",
       "2019-11-26    0.851971\n",
       "2019-12-03   -1.712872\n",
       "2019-12-10    1.596631\n",
       "Length: 1044, dtype: float64"
      ]
     },
     "execution_count": 16,
     "metadata": {},
     "output_type": "execute_result"
    }
   ],
   "source": [
    "(sp500.pct_change()).mean(axis=1)*100"
   ]
  },
  {
   "cell_type": "code",
   "execution_count": 62,
   "id": "7412b844",
   "metadata": {
    "ExecuteTime": {
     "end_time": "2022-06-21T20:35:16.212675Z",
     "start_time": "2022-06-21T20:35:16.197049Z"
    }
   },
   "outputs": [],
   "source": [
    "metrics = [\"ret\", \"vol\", \"sr\", \"track_err\", \"yearly_track_error\" \"ex_ret\", \"enc\", \"encb\", \"ir\", \"di\"]"
   ]
  },
  {
   "cell_type": "code",
   "execution_count": 63,
   "id": "7451c96c",
   "metadata": {
    "ExecuteTime": {
     "end_time": "2022-06-21T20:35:17.864362Z",
     "start_time": "2022-06-21T20:35:17.848916Z"
    }
   },
   "outputs": [],
   "source": [
    "rf = 0.5"
   ]
  },
  {
   "cell_type": "code",
   "execution_count": 64,
   "id": "dcf99405",
   "metadata": {
    "ExecuteTime": {
     "end_time": "2022-06-21T20:35:18.285523Z",
     "start_time": "2022-06-21T20:35:18.254334Z"
    }
   },
   "outputs": [],
   "source": [
    "dic = dict.fromkeys(return_df.columns)\n",
    "\n",
    "for k in dic.keys():\n",
    "    dic[k] = dict.fromkeys(metrics)"
   ]
  },
  {
   "cell_type": "code",
   "execution_count": 72,
   "id": "c008390c",
   "metadata": {
    "ExecuteTime": {
     "end_time": "2022-06-21T20:39:09.403194Z",
     "start_time": "2022-06-21T20:39:09.224536Z"
    }
   },
   "outputs": [],
   "source": [
    "for pf in dic.keys():\n",
    "        \n",
    "    # Rendement annualisé\n",
    "    dic[pf][\"ret\"] = return_df[pf].mean() * 52\n",
    "\n",
    "    # Volatilité sur les 18 ans\n",
    "    dic[pf][\"vol\"] = return_df[pf].std() * np.sqrt(52)\n",
    "    \n",
    "    # Ratio de sharp\n",
    "    dic[pf][\"sr\"] = (dic[pf][\"ret\"] - rf) / dic[pf][\"vol\"]\n",
    "    \n",
    "     # Tracking error\n",
    "    dic[pf][\"track_err\"] = []\n",
    "    for i in range(len(return_df)//12):\n",
    "        dic[pf][\"track_err\"].append((return_df[pf].iloc[i*12:(i+1)*12] - return_sp[\"mu\"].iloc[i*12:(i+1)*12]).std())\n",
    "    \n",
    "    # Tracking global error\n",
    "    dic[pf][\"yearly_track_err\"] = []\n",
    "    for i in range(len(return_df)//(12*4)):\n",
    "        dic[pf][\"yearly_track_err\"].append((return_df[pf].iloc[i*12*4:(i+1)*12*4] - return_sp[\"mu\"].iloc[i*12*4:(i+1)*12*4]).std())\n",
    "    \n",
    "    # Excess return \n",
    "    # dic[pf][\"ex_ret\"] = \n",
    "    \n",
    "    # Calcul de l'ENC\n",
    "    # dic[pf][\"enc\"] = \n",
    "    \n",
    "    # Information ratio\n",
    "    # dic[pf][\"ir\"]\n",
    "    \n",
    "    # ENCB\n",
    "    # dic[pf][\"encb\"]\n",
    "    \n",
    "    # Diversification index\n",
    "    # dic[pf][\"di\"]"
   ]
  },
  {
   "cell_type": "code",
   "execution_count": null,
   "id": "12b1582d",
   "metadata": {},
   "outputs": [],
   "source": []
  }
 ],
 "metadata": {
  "hide_input": false,
  "kernelspec": {
   "display_name": "Python 3",
   "language": "python",
   "name": "python3"
  },
  "language_info": {
   "codemirror_mode": {
    "name": "ipython",
    "version": 3
   },
   "file_extension": ".py",
   "mimetype": "text/x-python",
   "name": "python",
   "nbconvert_exporter": "python",
   "pygments_lexer": "ipython3",
   "version": "3.8.8"
  },
  "toc": {
   "base_numbering": 1,
   "nav_menu": {},
   "number_sections": true,
   "sideBar": true,
   "skip_h1_title": false,
   "title_cell": "Table of Contents",
   "title_sidebar": "Contents",
   "toc_cell": false,
   "toc_position": {},
   "toc_section_display": true,
   "toc_window_display": false
  }
 },
 "nbformat": 4,
 "nbformat_minor": 5
}
