{
 "cells": [
  {
   "cell_type": "markdown",
   "metadata": {},
   "source": [
    "# Description\n",
    "* Author: Seydou DIA & Simona MILADINOVA\n",
    "\n",
    "Notebook to compute metrics."
   ]
  },
  {
   "cell_type": "markdown",
   "metadata": {},
   "source": [
    "# Setup"
   ]
  },
  {
   "cell_type": "code",
   "execution_count": null,
   "metadata": {
    "ExecuteTime": {
     "end_time": "2022-09-10T16:33:37.641349Z",
     "start_time": "2022-09-10T16:33:32.720642Z"
    }
   },
   "outputs": [],
   "source": [
    "%matplotlib notebook\n",
    "%load_ext autoreload"
   ]
  },
  {
   "cell_type": "markdown",
   "metadata": {
    "ExecuteTime": {
     "end_time": "2022-07-24T16:31:54.878143Z",
     "start_time": "2022-07-24T16:31:54.847509Z"
    }
   },
   "source": [
    "## Imports"
   ]
  },
  {
   "cell_type": "code",
   "execution_count": null,
   "metadata": {
    "ExecuteTime": {
     "end_time": "2022-09-10T16:33:42.650446Z",
     "start_time": "2022-09-10T16:33:37.642666Z"
    }
   },
   "outputs": [],
   "source": [
    "# os related\n",
    "from pathlib import Path\n",
    "import os \n",
    "\n",
    "# data related\n",
    "import pandas as pd\n",
    "# import missingno as msno\n",
    "import datetime as dt\n",
    "import numpy as np\n",
    "\n",
    "\n",
    "# visual related\n",
    "import matplotlib.pyplot as plt\n",
    "# time related\n",
    "\n",
    "from fonctions import *"
   ]
  },
  {
   "cell_type": "markdown",
   "metadata": {},
   "source": [
    "## Paths"
   ]
  },
  {
   "cell_type": "code",
   "execution_count": null,
   "metadata": {
    "ExecuteTime": {
     "end_time": "2022-09-10T16:33:42.682098Z",
     "start_time": "2022-09-10T16:33:42.650446Z"
    }
   },
   "outputs": [],
   "source": [
    "\n",
    "# MUST BE IN CODE FOLDER TO WORK !\n",
    "PROJECT_PATH = Path(os.getcwd()).parent\n",
    "\n",
    "RAW_DATA = PROJECT_PATH / \"RAW_DATA\" \n",
    "PROC_DATA = PROJECT_PATH / \"PROC_DATA\"\n",
    "\n",
    "# RAW FILES\n",
    "CSV_FILE = RAW_DATA / \"Individual_stock_data_csv.csv\"\n",
    "XLSX_FILE = RAW_DATA / \"Individual_stock_data.xlsx\"\n",
    "\n",
    "# PROC FILES\n",
    "PROC_STOCK = PROC_DATA / \"proc_stock.csv\"\n",
    "PROC_CARBON = PROC_DATA / \"proc_carbon.csv\"\n",
    "\n",
    "STOCK_2000 = PROC_DATA / \"stock_2000.csv\"\n",
    "\n",
    "STOCK_WORK = PROC_DATA / \"stock_work.csv\"\n",
    "STOCK2USE = PROC_DATA / \"stock2use.csv\"\n",
    "DIC2USE = PROC_DATA / \"dic2use.json\"\n",
    "\n",
    "\n",
    "OUT_RENDEMENT = PROC_DATA / \"rendement_v1.csv\"\n",
    "\n",
    "OUT_DF_CSV = PROC_DATA / \"optimize_assets.csv\"\n",
    "\n",
    "# OUT_DIC_WEIGHT = PROC_DATA / \"dic_weight.pickle\""
   ]
  },
  {
   "cell_type": "markdown",
   "metadata": {},
   "source": [
    "## Utils"
   ]
  },
  {
   "cell_type": "code",
   "execution_count": null,
   "metadata": {
    "ExecuteTime": {
     "end_time": "2022-09-10T16:33:42.722112Z",
     "start_time": "2022-09-10T16:33:42.690101Z"
    }
   },
   "outputs": [],
   "source": [
    "def compute_enc(weights):\n",
    "    \"\"\"Function that computes the ENC for given weights an a given window\"\"\"\n",
    "    return 1 / sum([w**2 for w in weights])\n",
    "    \n",
    "\n",
    "def compute_ir(excess_return, track_err):\n",
    "    \"\"\"Function that computes the information ratio given \n",
    "    the excess return and the track_err\"\"\"\n",
    "    return [ex_ret / track_err for (ex_ret, track_err) in zip(excess_return, track_err)]\n",
    "\n",
    "def compute_di(weight, stock, vol_p):\n",
    "    \"\"\"Function that computes the diversification index\"\"\"\n",
    "    stock_vol = stock.std() * np.sqrt(12)\n",
    "    return np.dot(stock_vol, weight) / (vol_p * np.sqrt(12))"
   ]
  },
  {
   "cell_type": "markdown",
   "metadata": {},
   "source": [
    "# Notebook\n"
   ]
  },
  {
   "cell_type": "code",
   "execution_count": null,
   "metadata": {
    "ExecuteTime": {
     "end_time": "2022-09-10T16:33:44.326163Z",
     "start_time": "2022-09-10T16:33:42.722112Z"
    }
   },
   "outputs": [],
   "source": [
    "stock_df = read_file(STOCK2USE).iloc[104:-4]\n",
    "\n",
    "return_df = pd.read_csv(OUT_DF_CSV)\n",
    "return_df.index = read_file(STOCK2USE).index[104:-4]\n",
    "return_df.drop(columns=\"Unnamed: 0\", inplace=True)\n",
    "\n",
    "stock_ret = stock_df.pct_change()\n",
    "\n",
    "sp500 = read_file(STOCK_WORK)\n",
    "bm_return = equally_weighted(sp500) \n",
    "\n",
    "return_sp = pd.DataFrame((sp500.mean(axis=1).pct_change())*100, columns=[\"mu\"])\n",
    "return_sp = return_sp.loc[return_df.index[0]:return_df.index[-1]]"
   ]
  },
  {
   "cell_type": "code",
   "execution_count": null,
   "metadata": {
    "ExecuteTime": {
     "end_time": "2022-09-10T16:33:44.351466Z",
     "start_time": "2022-09-10T16:33:44.327470Z"
    }
   },
   "outputs": [],
   "source": [
    "\n",
    "metrics = [\"ret\", \"vol\", \"sr\", \n",
    "           \"track_err\", \"yearly_track_error\",\n",
    "           \"ex_ret\", \"enc\", \"encb\", \n",
    "           \"ir\", \"di\"]\n"
   ]
  },
  {
   "cell_type": "code",
   "execution_count": null,
   "metadata": {
    "ExecuteTime": {
     "end_time": "2022-09-10T16:33:44.385517Z",
     "start_time": "2022-09-10T16:33:44.360187Z"
    }
   },
   "outputs": [],
   "source": [
    "dic = dict.fromkeys(return_df.columns)\n",
    "for k in dic.keys():\n",
    "    dic[k] = dict.fromkeys(metrics)\n"
   ]
  },
  {
   "cell_type": "code",
   "execution_count": null,
   "metadata": {
    "ExecuteTime": {
     "end_time": "2022-09-10T16:33:44.629255Z",
     "start_time": "2022-09-10T16:33:44.393520Z"
    }
   },
   "outputs": [],
   "source": [
    "# Poids pour chacun des rebalancement\n",
    "dic_weight = {\n",
    "    pf: pd.read_csv(PROC_DATA / f\"weight_{pf}.csv\").rename(columns={'Unnamed: 0':\"quarter\"}).set_index(\"quarter\")\n",
    "    for pf in dic.keys()\n",
    "}"
   ]
  },
  {
   "cell_type": "code",
   "execution_count": null,
   "metadata": {
    "ExecuteTime": {
     "end_time": "2022-09-10T16:33:44.661527Z",
     "start_time": "2022-09-10T16:33:44.637254Z"
    }
   },
   "outputs": [],
   "source": [
    "rf = 0.05"
   ]
  },
  {
   "cell_type": "code",
   "execution_count": null,
   "metadata": {
    "ExecuteTime": {
     "end_time": "2022-09-10T19:41:28.007813Z",
     "start_time": "2022-09-10T19:41:27.269614Z"
    }
   },
   "outputs": [],
   "source": [
    "for pf in dic.keys():\n",
    "        \n",
    "    # Rendement annualisé\n",
    "    dic[pf][\"ret\"] = return_df[pf].mean() * 52\n",
    "\n",
    "    # Volatilité sur les 18 ans\n",
    "    dic[pf][\"vol\"] = return_df[pf].std() * np.sqrt(52)\n",
    "    \n",
    "    # Ratio de sharp\n",
    "    dic[pf][\"sr\"] = (dic[pf][\"ret\"] - rf) / dic[pf][\"vol\"]\n",
    "    \n",
    "     # Tracking error\n",
    "    dic[pf][\"track_err\"] = []\n",
    "    for i in range(len(return_df)//12): # par paquet de 3 mois\n",
    "        dic[pf][\"track_err\"].append((return_df[pf].iloc[i*12:(i+1)*12] - return_sp[\"mu\"].iloc[i*12:(i+1)*12]).std() * np.sqrt(52))\n",
    "    \n",
    "    # Tracking global error\n",
    "    dic[pf][\"yearly_track_err\"] = []\n",
    "    for i in range(len(return_df)//(12*4)): # par paquet de 1 an\n",
    "        dic[pf][\"yearly_track_err\"].append((return_df[pf].iloc[i*12*4:(i+1)*12*4] - return_sp[\"mu\"].iloc[i*12*4:(i+1)*12*4]).std() * np.sqrt(52))\n",
    "    \n",
    "    # Excess return \n",
    "    dic[pf][\"ex_ret\"] = []\n",
    "    for i in range(len(return_df)//12): # par paquet de 3 mois\n",
    "        dic[pf][\"ex_ret\"].append( \n",
    "            52 * (return_df[pf].iloc[i*12:(i+1)*12].mean()) - 52 * (return_sp[\"mu\"].iloc[i*12:(i+1)*12].mean())\n",
    "        )\n",
    "        \n",
    "    # Yearly Excess return \n",
    "    dic[pf][\"yearly_ex_ret\"] = []\n",
    "    for i in range(len(return_df)//(12*4)): # par paquet de 1 an\n",
    "        dic[pf][\"yearly_ex_ret\"].append( \n",
    "            52 * (return_df[pf].iloc[i*12*4:(i+1)*12*4].mean()) - 52 * (return_sp[\"mu\"].iloc[i*12*4:(i+1)*12*4].mean())\n",
    "        )\n",
    "\n",
    "    # Calcul de l'ENC\n",
    "    dic[pf][\"enc\"] = dic_weight[pf].apply(compute_enc, axis=1)\n",
    "    \n",
    "    # Information ratio\n",
    "    dic[pf][\"ir\"] = compute_ir(dic[pf][\"ex_ret\"], dic[pf][\"track_err\"])\n",
    "        \n",
    "    # Yearly Information ratio\n",
    "    dic[pf][\"yearly_ir\"] = compute_ir(dic[pf][\"yearly_ex_ret\"],\n",
    "                                             dic[pf][\"yearly_track_err\"])\n",
    "    \n",
    "    # Diversification index # récupérer les poids\n",
    "    sum_di = 0\n",
    "    for i in range(len(return_df)//12):\n",
    "          sum_di += compute_di(\n",
    "            weight=dic_weight[pf].iloc[i],\n",
    "            stock=stock_ret.iloc[i*12:(i+1)*12],\n",
    "            vol_p=return_df[pf].iloc[i*12:(i+1)*12].std())\n",
    "            \n",
    "    print(pf)\n",
    "    print(sum_di)\n",
    "    dic[pf][\"di\"] = sum_di / (len(return_df)//12)\n",
    "    \n",
    "         "
   ]
  },
  {
   "cell_type": "code",
   "execution_count": null,
   "metadata": {
    "ExecuteTime": {
     "end_time": "2022-09-10T18:18:01.294975Z",
     "start_time": "2022-09-10T18:17:57.526Z"
    },
    "scrolled": true
   },
   "outputs": [],
   "source": [
    "dic"
   ]
  },
  {
   "cell_type": "code",
   "execution_count": null,
   "metadata": {
    "ExecuteTime": {
     "end_time": "2022-09-10T21:29:34.218787Z",
     "start_time": "2022-09-10T21:29:32.241182Z"
    }
   },
   "outputs": [],
   "source": [
    "%store dic"
   ]
  },
  {
   "cell_type": "code",
   "execution_count": null,
   "metadata": {
    "ExecuteTime": {
     "end_time": "2022-09-10T18:18:01.294975Z",
     "start_time": "2022-09-10T18:17:57.547Z"
    }
   },
   "outputs": [],
   "source": [
    "dic[\"ew\"].keys()"
   ]
  },
  {
   "cell_type": "code",
   "execution_count": null,
   "metadata": {
    "ExecuteTime": {
     "end_time": "2022-09-10T18:18:01.294975Z",
     "start_time": "2022-09-10T18:17:57.551Z"
    }
   },
   "outputs": [],
   "source": [
    "dic.keys()"
   ]
  },
  {
   "cell_type": "code",
   "execution_count": null,
   "metadata": {
    "ExecuteTime": {
     "end_time": "2022-09-10T18:18:01.294975Z",
     "start_time": "2022-09-10T18:17:57.553Z"
    }
   },
   "outputs": [],
   "source": [
    "dic[k][\"ret\"]"
   ]
  },
  {
   "cell_type": "code",
   "execution_count": null,
   "metadata": {
    "ExecuteTime": {
     "end_time": "2022-09-10T18:18:01.294975Z",
     "start_time": "2022-09-10T18:17:57.623Z"
    }
   },
   "outputs": [],
   "source": [
    "plt.figure()\n",
    "plt.bar(dic.keys(),\n",
    "    [dic[k][\"ret\"] for k in dic.keys()],\n",
    "       align=\"center\",\n",
    "        width=0.4\n",
    "   )\n",
    "\n",
    "plt.title(\"Rendement par portefeuille\", fontsize=15)\n",
    "plt.ylabel(\"%\", fontsize=15)\n",
    "plt.ylim(0,22)\n",
    "\n",
    "plt.xticks(fontsize=12)\n",
    "plt.yticks(fontsize=10)"
   ]
  },
  {
   "cell_type": "code",
   "execution_count": null,
   "metadata": {
    "ExecuteTime": {
     "end_time": "2022-09-10T18:18:01.315910Z",
     "start_time": "2022-09-10T18:17:57.629Z"
    }
   },
   "outputs": [],
   "source": [
    "fig, axs = plt.subplots(1, len(dic.keys())+1, sharex=True, \n",
    "                        sharey=True,\n",
    "                        figsize=(9, 6),\n",
    "                        gridspec_kw={\"width_ratios\": [3, 3, 3, 3, 3, 1]})\n",
    "\n",
    "dic_color = {'increasing':'green', 'decreasing':'red', 'no trend':'blue'}\n",
    "\n",
    "\n",
    "labels = list(dic.keys())\n",
    "\n",
    "for i, col in enumerate(return_df.columns):\n",
    "    axs[i].hist(return_df[col], bins=50, density=True)\n",
    "    axs[i].set_xlabel(\"%\")\n",
    "    axs[i].set_title(col, fontsize=11, pad=0.5)\n",
    "    axs[i].grid(True)\n",
    "    \n",
    "\n",
    "    \n",
    "lax = axs[-1]\n",
    "lax.axis('off')\n",
    "# lines = [Line2D([0], [0], color=c, linewidth=3, linestyle='-') for c in dic_color.values()]\n",
    "#lax.legend(lines, labels, loc=10, fontsize=9)\n",
    "\n",
    "# ----------------\n",
    "\n",
    "fig.suptitle(\"Distribution des rendements hebdomadaires (%)\")\n",
    "#fig.suptitle(\"From {} to {})\".format(start, end))\n",
    "#fig.tight_layout(rect=[0,0,1,0.98])"
   ]
  },
  {
   "cell_type": "code",
   "execution_count": null,
   "metadata": {
    "ExecuteTime": {
     "end_time": "2022-09-10T18:18:01.326420Z",
     "start_time": "2022-09-10T18:17:57.634Z"
    }
   },
   "outputs": [],
   "source": [
    "plt.figure()\n",
    "plt.bar(dic.keys(),\n",
    "    [dic[k][\"vol\"] for k in dic.keys()],\n",
    "       align=\"center\",\n",
    "        width=0.4)\n",
    "\n",
    "plt.title(\"Ecart-Type par portefeuille\", fontsize=15)\n",
    "plt.ylabel(\"%\", fontsize=15)\n",
    "\n",
    "plt.xticks(fontsize=12)\n",
    "plt.yticks(fontsize=10)"
   ]
  },
  {
   "cell_type": "markdown",
   "metadata": {},
   "source": [
    "Distribution des rendements"
   ]
  },
  {
   "cell_type": "markdown",
   "metadata": {},
   "source": [
    "\n",
    "## Tracking error"
   ]
  },
  {
   "cell_type": "code",
   "execution_count": null,
   "metadata": {
    "ExecuteTime": {
     "end_time": "2022-09-10T19:41:54.167283Z",
     "start_time": "2022-09-10T19:41:53.319454Z"
    }
   },
   "outputs": [],
   "source": [
    "yr_idx = [str(i) for i in range(2001,2020)]\n",
    "\n",
    "track_error_df = pd.DataFrame(index=yr_idx)\n",
    "\n",
    "for k in dic.keys():\n",
    "    track_error_df[k] = dic[k][\"yearly_track_err\"]\n",
    "    \n",
    "    \n",
    "\n",
    "track_error_df.plot()    \n",
    "plt.title(\"Tracking Error calculée annuellement\")"
   ]
  },
  {
   "cell_type": "code",
   "execution_count": null,
   "metadata": {
    "ExecuteTime": {
     "end_time": "2022-09-10T19:42:41.624281Z",
     "start_time": "2022-09-10T19:42:41.356740Z"
    }
   },
   "outputs": [],
   "source": [
    "fig, axs = plt.subplots(1, len(dic.keys())+1, sharex=True, \n",
    "                        sharey=True,\n",
    "                        figsize=(9, 6),\n",
    "                        gridspec_kw={\"width_ratios\": [3, 3, 3, 3, 3, 1]})\n",
    "\n",
    "dic_color = {'increasing':'green', 'decreasing':'red', 'no trend':'blue'}\n",
    "\n",
    "\n",
    "labels = list(dic.keys())\n",
    "\n",
    "for i, col in enumerate(return_df.columns):\n",
    "    axs[i].hist(dic[col][\"track_err\"], bins=15)\n",
    "    axs[i].set_xlabel(\"%\")\n",
    "    axs[i].set_title(f\"{col}\", fontsize=11, pad=0.5)\n",
    "    axs[i].grid(True)\n",
    "    \n",
    "\n",
    "    \n",
    "lax = axs[-1]\n",
    "lax.axis('off')\n",
    "# lines = [Line2D([0], [0], color=c, linewidth=3, linestyle='-') for c in dic_color.values()]\n",
    "#lax.legend(lines, labels, loc=10, fontsize=9)\n",
    "\n",
    "# ----------------\n",
    "\n",
    "fig.suptitle(\"Distribution de la tracking error calculée trimestriellement (%)\")\n",
    "#fig.suptitle(\"From {} to {})\".format(start, end))\n",
    "#fig.tight_layout(rect=[0,0,1,0.98])"
   ]
  },
  {
   "cell_type": "markdown",
   "metadata": {},
   "source": [
    "excess return"
   ]
  },
  {
   "cell_type": "code",
   "execution_count": null,
   "metadata": {
    "ExecuteTime": {
     "end_time": "2022-09-10T19:46:44.631434Z",
     "start_time": "2022-09-10T19:46:44.521361Z"
    }
   },
   "outputs": [],
   "source": [
    "yr_idx = [str(i) for i in range(2001,2020)]\n",
    "\n",
    "ex_ret_df = pd.DataFrame(index=yr_idx)\n",
    "\n",
    "for k in dic.keys():\n",
    "    ex_ret_df[k] = dic[k][\"yearly_ex_ret\"]\n",
    "    \n",
    "    \n",
    "\n",
    "ex_ret_df.plot()    \n",
    "plt.title(\"Excess Return  annuel\")"
   ]
  },
  {
   "cell_type": "code",
   "execution_count": null,
   "metadata": {
    "ExecuteTime": {
     "end_time": "2022-09-10T19:46:47.112244Z",
     "start_time": "2022-09-10T19:46:46.594021Z"
    }
   },
   "outputs": [],
   "source": [
    "ex_ret_df"
   ]
  },
  {
   "cell_type": "code",
   "execution_count": null,
   "metadata": {
    "ExecuteTime": {
     "end_time": "2022-09-10T19:46:47.552195Z",
     "start_time": "2022-09-10T19:46:47.470680Z"
    }
   },
   "outputs": [],
   "source": [
    "ex_ret_df.style.background_gradient(cmap=\"Blues\")"
   ]
  },
  {
   "cell_type": "code",
   "execution_count": null,
   "metadata": {
    "ExecuteTime": {
     "end_time": "2022-09-10T20:14:23.933526Z",
     "start_time": "2022-09-10T20:14:23.917891Z"
    }
   },
   "outputs": [],
   "source": [
    "ex_ret_df.mean()"
   ]
  },
  {
   "cell_type": "code",
   "execution_count": null,
   "metadata": {
    "ExecuteTime": {
     "end_time": "2022-09-10T20:14:15.798321Z",
     "start_time": "2022-09-10T20:14:15.766567Z"
    }
   },
   "outputs": [],
   "source": [
    "ex_ret_df.mean() / ex_ret_df.std()"
   ]
  },
  {
   "cell_type": "code",
   "execution_count": null,
   "metadata": {
    "ExecuteTime": {
     "end_time": "2022-09-10T16:07:03.852659Z",
     "start_time": "2022-09-10T16:07:03.584677Z"
    }
   },
   "outputs": [],
   "source": [
    "yr_idx = [str(i) for i in range(len(dic[\"ew\"][\"enc\"]))]\n",
    "\n",
    "enc_df = pd.DataFrame(index=yr_idx)\n",
    "\n",
    "for k in list(dic.keys())[1:]:\n",
    "    enc_df[k] = dic[k][\"enc\"].values\n",
    "    \n",
    "    \n",
    "\n",
    "enc_df.plot()    \n",
    "plt.title(\"Evolution Trimestirelle de l'ENC\")\n",
    "plt.xlabel(\"Trismestre\")"
   ]
  },
  {
   "cell_type": "markdown",
   "metadata": {},
   "source": [
    "Information ratio"
   ]
  },
  {
   "cell_type": "code",
   "execution_count": null,
   "metadata": {
    "ExecuteTime": {
     "end_time": "2022-09-10T14:25:33.945805Z",
     "start_time": "2022-09-10T14:25:33.286264Z"
    }
   },
   "outputs": [],
   "source": [
    "yr_idx = [str(i) for i in range(2001,2020)]\n",
    "\n",
    "ir_df = pd.DataFrame(index=yr_idx)\n",
    "\n",
    "for k in dic.keys():\n",
    "    ir_df[k] = dic[k][\"yearly_ir\"]\n",
    "\n",
    "ir_df.plot()    \n",
    "plt.title(\"Information Ratio annuel\")"
   ]
  },
  {
   "cell_type": "code",
   "execution_count": null,
   "metadata": {
    "ExecuteTime": {
     "end_time": "2022-09-10T14:25:59.072938Z",
     "start_time": "2022-09-10T14:25:58.460246Z"
    }
   },
   "outputs": [],
   "source": [
    "ir_df.style.background_gradient(cmap=\"Blues\")"
   ]
  },
  {
   "cell_type": "markdown",
   "metadata": {},
   "source": [
    "sharp ratio"
   ]
  },
  {
   "cell_type": "code",
   "execution_count": null,
   "metadata": {
    "ExecuteTime": {
     "end_time": "2022-09-10T14:36:47.997930Z",
     "start_time": "2022-09-10T14:36:47.636577Z"
    }
   },
   "outputs": [],
   "source": [
    "plt.figure()\n",
    "plt.bar(dic.keys(),\n",
    "    [dic[k][\"sr\"] for k in dic.keys()],\n",
    "       align=\"center\",\n",
    "        width=0.4)\n",
    "\n",
    "plt.title(\"Sharp Ratio par portefeuille\", fontsize=15)\n",
    "plt.ylabel(\"%\", fontsize=15)\n",
    "\n",
    "plt.xticks(fontsize=12)\n",
    "plt.yticks(fontsize=10)"
   ]
  },
  {
   "cell_type": "markdown",
   "metadata": {},
   "source": [
    "### analysis"
   ]
  },
  {
   "cell_type": "markdown",
   "metadata": {},
   "source": [
    "- Récupérer table de poids\n",
    "- Calculer poids moyen sur les 20 ans\n",
    "- Analyser les 3 plus gros poids pour les 5 portefeuilles"
   ]
  },
  {
   "cell_type": "code",
   "execution_count": null,
   "metadata": {
    "ExecuteTime": {
     "end_time": "2022-09-10T14:57:40.340558Z",
     "start_time": "2022-09-10T14:57:40.169057Z"
    }
   },
   "outputs": [],
   "source": [
    "path = f\"weight_{w}.csv\"\n",
    "df = pd.read_csv(PROC_DATA / path)\n",
    "df.mean().sort_values(ascending=False)[1:4]\n"
   ]
  },
  {
   "cell_type": "code",
   "execution_count": null,
   "metadata": {
    "ExecuteTime": {
     "end_time": "2022-09-10T15:40:10.130434Z",
     "start_time": "2022-09-10T15:40:09.580536Z"
    },
    "scrolled": false
   },
   "outputs": [],
   "source": [
    "# Itérer sur les 5 portefeuille\n",
    "\n",
    "for w in dic.keys():\n",
    "    plt.figure()    \n",
    "    path = f\"weight_{w}.csv\"\n",
    "    df = pd.read_csv(PROC_DATA / path)\n",
    "    print(w.upper())\n",
    "    print(df.mean().sort_values(ascending=False)[1:4], \"\\n\")\n",
    "    top_assets = df.mean().sort_values(ascending=False)[1:4].index.tolist()\n",
    "    df.drop(columns='Unnamed: 0', inplace=True)\n",
    "    \n",
    "    \n",
    "    plt.plot(df.loc[:, ~df.columns.isin([top_assets])], color=\"black\", alpha=0.2)\n",
    "    plt.plot(df[top_assets], color=\"salmon\")\n",
    "    plt.title(f\" {w.upper()} : Evolution des poids dans le temps\")\n",
    "    plt.ylim(0,1.2)\n",
    "    \n",
    "    \n",
    "#     plt.figure()    \n",
    "#     plt.plot(stock_ret.loc[:, stock_ret.columns.isin([df.columns])], color=\"black\", alpha=0.2)\n",
    "#     plt.plot(stock_ret[top_assets], color=\"salmon\")\n",
    "#     plt.title(f\" {w.upper()} : Evolution des rendements dans le temps\")\n",
    "#     # plt.ylim(0,1.2)\n",
    "    \n",
    "    \n",
    "    \n",
    "    \n",
    "    \n",
    "    \n"
   ]
  },
  {
   "cell_type": "markdown",
   "metadata": {},
   "source": [
    "Spider plot"
   ]
  },
  {
   "cell_type": "code",
   "execution_count": null,
   "metadata": {
    "ExecuteTime": {
     "end_time": "2022-09-10T16:39:47.941654Z",
     "start_time": "2022-09-10T16:39:47.917698Z"
    }
   },
   "outputs": [],
   "source": [
    "kpi_list = [\"ret\", \"enc\", \"vol\", \"ex_ret\", \"track_err\"]\n",
    "\n"
   ]
  },
  {
   "cell_type": "code",
   "execution_count": null,
   "metadata": {
    "ExecuteTime": {
     "end_time": "2022-09-10T16:49:18.655584Z",
     "start_time": "2022-09-10T16:49:18.503509Z"
    },
    "scrolled": false
   },
   "outputs": [],
   "source": [
    "import plotly.graph_objects as go\n",
    "\n",
    "\n",
    "\n",
    "for k in dic.keys():\n",
    "    values = [np.mean(dic[k][kpi]) for kpi in kpi_list]\n",
    "    \n",
    "    values[3] *= 10\n",
    "    values[4] *= 10\n",
    "    \n",
    "\n",
    "    fig = go.Figure(data=go.Scatterpolar(\n",
    "      r=values,\n",
    "      theta=kpi_list,\n",
    "      fill='toself'\n",
    "    ))\n",
    "\n",
    "    fig.update_layout(\n",
    "      polar=dict(\n",
    "        radialaxis=dict(\n",
    "          visible=True\n",
    "        ),\n",
    "      ),\n",
    "      showlegend=False\n",
    "    )\n",
    "\n",
    "    \n",
    "    fig.show()"
   ]
  }
 ],
 "metadata": {
  "hide_input": false,
  "kernelspec": {
   "display_name": "Python 3",
   "language": "python",
   "name": "python3"
  },
  "language_info": {
   "codemirror_mode": {
    "name": "ipython",
    "version": 3
   },
   "file_extension": ".py",
   "mimetype": "text/x-python",
   "name": "python",
   "nbconvert_exporter": "python",
   "pygments_lexer": "ipython3",
   "version": "3.7.6"
  },
  "toc": {
   "base_numbering": 1,
   "nav_menu": {},
   "number_sections": true,
   "sideBar": true,
   "skip_h1_title": false,
   "title_cell": "Table of Contents",
   "title_sidebar": "Contents",
   "toc_cell": false,
   "toc_position": {},
   "toc_section_display": true,
   "toc_window_display": false
  }
 },
 "nbformat": 4,
 "nbformat_minor": 5
}
